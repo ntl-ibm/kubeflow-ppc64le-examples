{
 "cells": [
  {
   "cell_type": "markdown",
   "id": "7f012067-8277-461c-9ef2-7cea83831668",
   "metadata": {},
   "source": [
    "# Create a Kubernetes config file\n",
    "\n",
    "This creates a kubernetes config file that you can use to access kubernetes from the command line. The authorities of your connection mirror the authority that you have in a notebook server.\n",
    "\n",
    "You should treat the config file with the same care that you treat ssh passwords, the file is equivalent to your kubeflow password.\n",
    "\n",
    "Copy the generated file to ~/.kube/config on a kubernetes control node. You will then be able to run Kubernetes commands from a control node.\n"
   ]
  },
  {
   "cell_type": "markdown",
   "id": "1b46966a-f34d-4036-bed8-c65687491291",
   "metadata": {},
   "source": [
    "## Update with your values\n",
    "To get the control IP, SSH to the control node that you wish to use the CLI from and run:\n",
    "\n",
    "`h=($(hostname -i)[1]); echo $h`"
   ]
  },
  {
   "cell_type": "code",
   "execution_count": null,
   "id": "cd737fee-2414-44d0-aa8e-b39fc51910c8",
   "metadata": {},
   "outputs": [],
   "source": [
    "# Update with your values\n",
    "CONTROL_IP = '10.153.0.9' \n",
    "EMAIL = 'ntl@us.ibm.com' #replace with your email"
   ]
  },
  {
   "cell_type": "code",
   "execution_count": null,
   "id": "3dae6528-4c1a-4921-b064-f1dc8f7790a4",
   "metadata": {},
   "outputs": [],
   "source": [
    "SERVER_IP = f'https://{CONTROL_IP}:6443'\n",
    "with open('/var/run/secrets/kubernetes.io/serviceaccount/ca.crt', 'rb') as cf: \n",
    "    CERT = cf.read() \n",
    " \n",
    "with open('/var/run/secrets/kubernetes.io/serviceaccount/token', 'rb') as tf: \n",
    "    TOKEN = tf.read() \n",
    " \n",
    "with open('/var/run/secrets/kubernetes.io/serviceaccount/namespace', 'r') as nf: \n",
    "    NAMESPACE = nf.read() \n",
    " \n",
    "\n",
    "USER_NAME = NAMESPACE\n",
    "\n",
    "import base64 \n",
    "import yaml \n",
    "     \n",
    "config_yaml = f''' \n",
    "apiVersion: v1 \n",
    "clusters: \n",
    "- cluster: \n",
    "    certificate-authority-data: {base64.b64encode(CERT).decode('utf-8')} \n",
    "    server: {SERVER_IP} \n",
    "  name: cluster.local \n",
    "contexts: \n",
    "- context: \n",
    "    cluster: cluster.local \n",
    "    namespace: {NAMESPACE} \n",
    "    user: {USER_NAME} \n",
    "  name: {EMAIL} \n",
    "current-context: {EMAIL} \n",
    "kind: Config \n",
    "users: \n",
    "- name: {USER_NAME} \n",
    "  user: \n",
    "    token: {TOKEN.decode('utf-8')} \n",
    " \n",
    "''' \n",
    " \n",
    "with open('config', 'w') as kconfig: \n",
    "    kconfig.write(yaml.dump(yaml.safe_load(config_yaml))) "
   ]
  },
  {
   "cell_type": "markdown",
   "id": "18ffa323-5f45-4585-abd0-83a60994ec9a",
   "metadata": {},
   "source": [
    "## Use the config file\n",
    "Copy the config file into ~/.kube/config on the control node\n",
    "You should now be able to use kubectl commands!"
   ]
  },
  {
   "cell_type": "markdown",
   "id": "41fa2dc1-b10d-4590-9995-0aac9468c6a8",
   "metadata": {},
   "source": [
    "## Sample commands"
   ]
  },
  {
   "cell_type": "code",
   "execution_count": null,
   "id": "982fcec5-533c-4a17-9392-2c0cfda19b64",
   "metadata": {
    "tags": []
   },
   "outputs": [],
   "source": [
    "# shows all pods in your namespace\n",
    "!kubectl get pods"
   ]
  },
  {
   "cell_type": "code",
   "execution_count": null,
   "id": "67860b6a-b51c-4d13-a157-09ef20c1e52a",
   "metadata": {
    "tags": []
   },
   "outputs": [],
   "source": [
    "# shows pods that are not running\n",
    "!kubectl get pods | grep -v Running"
   ]
  },
  {
   "cell_type": "code",
   "execution_count": null,
   "id": "72ef535e-a32a-42c7-a4a1-3a040d4a6c7e",
   "metadata": {},
   "outputs": [],
   "source": [
    "#shows pod's logs\n",
    "kubectl logs <POD NAME>"
   ]
  },
  {
   "cell_type": "code",
   "execution_count": null,
   "id": "a0730ab1-1743-409d-9af3-30090e13861a",
   "metadata": {},
   "outputs": [],
   "source": [
    "#show pod details including events\n",
    "kubectl describe pod <POD NAME>"
   ]
  }
 ],
 "metadata": {
  "kernelspec": {
   "display_name": "Python 3 (ipykernel)",
   "language": "python",
   "name": "python3"
  },
  "language_info": {
   "codemirror_mode": {
    "name": "ipython",
    "version": 3
   },
   "file_extension": ".py",
   "mimetype": "text/x-python",
   "name": "python",
   "nbconvert_exporter": "python",
   "pygments_lexer": "ipython3",
   "version": "3.9.13"
  }
 },
 "nbformat": 4,
 "nbformat_minor": 5
}
