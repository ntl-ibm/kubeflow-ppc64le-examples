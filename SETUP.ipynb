{
 "cells": [
  {
   "cell_type": "markdown",
   "id": "eef6535d-43d1-4500-9f98-2ccdb9aee791",
   "metadata": {},
   "source": [
    "# Load required components for the examples"
   ]
  },
  {
   "cell_type": "code",
   "execution_count": 2,
   "id": "e44adacb-46df-4ea2-bc0a-ddc33336a781",
   "metadata": {},
   "outputs": [
    {
     "name": "stdout",
     "output_type": "stream",
     "text": [
      "Cloning into '/home/jovyan/components'...\n",
      "remote: Enumerating objects: 591, done.\u001b[K\n",
      "remote: Counting objects: 100% (245/245), done.\u001b[K\n",
      "remote: Compressing objects: 100% (133/133), done.\u001b[K\n",
      "remote: Total 591 (delta 149), reused 190 (delta 108), pack-reused 346\u001b[K\n",
      "Receiving objects: 100% (591/591), 194.78 KiB | 1.09 MiB/s, done.\n",
      "Resolving deltas: 100% (307/307), done.\n",
      "Note: switching to 'c3fa912796bb259ee37d5563184ed1cfef1e608b'.\n",
      "\n",
      "You are in 'detached HEAD' state. You can look around, make experimental\n",
      "changes and commit them, and you can discard any commits you make in this\n",
      "state without impacting any branches by switching back to a branch.\n",
      "\n",
      "If you want to create a new branch to retain commits you create, you may\n",
      "do so (now or later) by using -c with the switch command. Example:\n",
      "\n",
      "  git switch -c <new-branch-name>\n",
      "\n",
      "Or undo this operation with:\n",
      "\n",
      "  git switch -\n",
      "\n",
      "Turn off this advice by setting config variable advice.detachedHead to false\n",
      "\n"
     ]
    }
   ],
   "source": [
    "!git clone https://github.com/ntl-ibm/kubeflow-ppc64le-components.git -b v1.0.0 /home/jovyan/components"
   ]
  }
 ],
 "metadata": {
  "kernelspec": {
   "display_name": "Python 3 (ipykernel)",
   "language": "python",
   "name": "python3"
  },
  "language_info": {
   "codemirror_mode": {
    "name": "ipython",
    "version": 3
   },
   "file_extension": ".py",
   "mimetype": "text/x-python",
   "name": "python",
   "nbconvert_exporter": "python",
   "pygments_lexer": "ipython3",
   "version": "3.9.13"
  }
 },
 "nbformat": 4,
 "nbformat_minor": 5
}
