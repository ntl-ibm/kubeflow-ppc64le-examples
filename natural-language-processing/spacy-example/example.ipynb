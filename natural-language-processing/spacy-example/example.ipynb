{
 "cells": [
  {
   "cell_type": "code",
   "execution_count": 1,
   "id": "c044b1f4-3a12-4983-9dba-3b27dc83e409",
   "metadata": {},
   "outputs": [],
   "source": [
    "%load_ext lab_black"
   ]
  },
  {
   "cell_type": "markdown",
   "id": "2a2c6555-9446-4d21-914d-b3bb606f05d4",
   "metadata": {},
   "source": [
    "# Spacy example notebook\n",
    "\n",
    "This notebook assumes that the container's base image is built with the image defined by the Dockerfile.\n",
    "\n",
    "If the container is successfuly built and used as the base image for the notebook service, then you should be able to run the commands in this notebook."
   ]
  },
  {
   "cell_type": "code",
   "execution_count": 2,
   "id": "80c124a2-e09f-486b-a3dd-c7868527e64c",
   "metadata": {},
   "outputs": [],
   "source": [
    "import spacy\n",
    "import numpy as np"
   ]
  },
  {
   "cell_type": "code",
   "execution_count": 3,
   "id": "c7a0f17c-c1b3-40fa-a432-c742c98f5ee4",
   "metadata": {},
   "outputs": [],
   "source": [
    "nlp = spacy.load(\"en_core_web_md\")"
   ]
  },
  {
   "cell_type": "markdown",
   "id": "1b6d9f1e-bd14-432a-9ef7-a29892ee15a4",
   "metadata": {
    "tags": []
   },
   "source": [
    "## Covert the sentence into word vectors\n",
    "\n",
    "Spacy word vectors are similar in concept to FastText or Gensim. The vectors are stored in a static word vectors table. That makes it very fast to look up to look up a word vector from a token/word, but the vectors only model the lexical type of the word, rather than the context associated with a specific token in a sentence.\n",
    "\n",
    "Transformer models such as BERT are usually used to understand language in context, but these models are more computationally expensive.\n",
    "\n",
    "While word vectors are not compatible with most transformer models, the accuracy of other types of NLP networks can be improved by using them.\n",
    "\n",
    "Source: https://spacy.io/usage/embeddings-transformers"
   ]
  },
  {
   "cell_type": "code",
   "execution_count": 10,
   "id": "444a22f0-fad7-4b2f-ad56-2aa2dfa38944",
   "metadata": {
    "tags": []
   },
   "outputs": [],
   "source": [
    "doc = nlp(\"The quick brown fox jumped over the lazy dog.\")"
   ]
  },
  {
   "cell_type": "code",
   "execution_count": 11,
   "id": "4809a81a-123d-4554-8edf-df839d113155",
   "metadata": {
    "tags": []
   },
   "outputs": [
    {
     "data": {
      "text/plain": [
       "array([[-0.65276 ,  0.23873 , -0.23325 , ..., -0.42636 ,  0.48578 ,\n",
       "        -0.28969 ],\n",
       "       [-0.60053 ,  0.18838 , -0.40993 , ..., -0.27799 ,  0.31229 ,\n",
       "        -0.28331 ],\n",
       "       [-0.66906 , -0.35133 ,  0.08064 , ..., -0.63783 ,  0.31403 ,\n",
       "         0.20384 ],\n",
       "       ...,\n",
       "       [-0.99977 , -0.1947  , -0.41958 , ...,  0.44761 ,  0.029474,\n",
       "         0.22546 ],\n",
       "       [-0.72483 ,  0.42538 ,  0.025489, ...,  0.050317, -0.23159 ,\n",
       "         0.28165 ],\n",
       "       [-0.73351 ,  0.41392 , -0.4425  , ..., -0.18777 , -0.076822,\n",
       "        -0.015507]], dtype=float32)"
      ]
     },
     "execution_count": 11,
     "metadata": {},
     "output_type": "execute_result"
    }
   ],
   "source": [
    "word_vectors = np.array([token.vector for token in doc if token.has_vector])\n",
    "word_vectors"
   ]
  },
  {
   "cell_type": "markdown",
   "id": "2d7efe30-2bbc-4a6d-9c67-c572f35b39ee",
   "metadata": {
    "tags": []
   },
   "source": [
    "## Render a dependency graph for a sentence\n",
    "\n",
    "Dependency parsing is the process to analyze the grammatical structure of a sentence and find related words and the type of relationship between them.\n",
    "\n",
    "Source: https://towardsdatascience.com/natural-language-processing-dependency-parsing-cf094bbbe3f7"
   ]
  },
  {
   "cell_type": "code",
   "execution_count": 6,
   "id": "6cd8b6e3-d210-49d7-a7bc-fe5e7fa18d0b",
   "metadata": {},
   "outputs": [],
   "source": [
    "doc2 = nlp(\"IBM Power10 servers are fast!\")"
   ]
  },
  {
   "cell_type": "code",
   "execution_count": 7,
   "id": "2852f676-c1d3-454a-b563-28cb97781720",
   "metadata": {},
   "outputs": [
    {
     "data": {
      "text/html": [
       "<span class=\"tex2jax_ignore\"><svg xmlns=\"http://www.w3.org/2000/svg\" xmlns:xlink=\"http://www.w3.org/1999/xlink\" xml:lang=\"en\" id=\"b04f039422d344d5bb5cc85751679bd5-0\" class=\"displacy\" width=\"925\" height=\"224.5\" direction=\"ltr\" style=\"max-width: none; height: 224.5px; color: #000000; background: #ffffff; font-family: Arial; direction: ltr\">\n",
       "<text class=\"displacy-token\" fill=\"currentColor\" text-anchor=\"middle\" y=\"134.5\">\n",
       "    <tspan class=\"displacy-word\" fill=\"currentColor\" x=\"50\">IBM</tspan>\n",
       "    <tspan class=\"displacy-tag\" dy=\"2em\" fill=\"currentColor\" x=\"50\">PROPN</tspan>\n",
       "</text>\n",
       "\n",
       "<text class=\"displacy-token\" fill=\"currentColor\" text-anchor=\"middle\" y=\"134.5\">\n",
       "    <tspan class=\"displacy-word\" fill=\"currentColor\" x=\"225\">Power10</tspan>\n",
       "    <tspan class=\"displacy-tag\" dy=\"2em\" fill=\"currentColor\" x=\"225\">PROPN</tspan>\n",
       "</text>\n",
       "\n",
       "<text class=\"displacy-token\" fill=\"currentColor\" text-anchor=\"middle\" y=\"134.5\">\n",
       "    <tspan class=\"displacy-word\" fill=\"currentColor\" x=\"400\">servers</tspan>\n",
       "    <tspan class=\"displacy-tag\" dy=\"2em\" fill=\"currentColor\" x=\"400\">NOUN</tspan>\n",
       "</text>\n",
       "\n",
       "<text class=\"displacy-token\" fill=\"currentColor\" text-anchor=\"middle\" y=\"134.5\">\n",
       "    <tspan class=\"displacy-word\" fill=\"currentColor\" x=\"575\">are</tspan>\n",
       "    <tspan class=\"displacy-tag\" dy=\"2em\" fill=\"currentColor\" x=\"575\">AUX</tspan>\n",
       "</text>\n",
       "\n",
       "<text class=\"displacy-token\" fill=\"currentColor\" text-anchor=\"middle\" y=\"134.5\">\n",
       "    <tspan class=\"displacy-word\" fill=\"currentColor\" x=\"750\">fast!</tspan>\n",
       "    <tspan class=\"displacy-tag\" dy=\"2em\" fill=\"currentColor\" x=\"750\">ADJ</tspan>\n",
       "</text>\n",
       "\n",
       "<g class=\"displacy-arrow\">\n",
       "    <path class=\"displacy-arc\" id=\"arrow-b04f039422d344d5bb5cc85751679bd5-0-0\" stroke-width=\"2px\" d=\"M70,89.5 C70,2.0 225.0,2.0 225.0,89.5\" fill=\"none\" stroke=\"currentColor\"/>\n",
       "    <text dy=\"1.25em\" style=\"font-size: 0.8em; letter-spacing: 1px\">\n",
       "        <textPath xlink:href=\"#arrow-b04f039422d344d5bb5cc85751679bd5-0-0\" class=\"displacy-label\" startOffset=\"50%\" side=\"left\" fill=\"currentColor\" text-anchor=\"middle\">compound</textPath>\n",
       "    </text>\n",
       "    <path class=\"displacy-arrowhead\" d=\"M70,91.5 L62,79.5 78,79.5\" fill=\"currentColor\"/>\n",
       "</g>\n",
       "\n",
       "<g class=\"displacy-arrow\">\n",
       "    <path class=\"displacy-arc\" id=\"arrow-b04f039422d344d5bb5cc85751679bd5-0-1\" stroke-width=\"2px\" d=\"M245,89.5 C245,2.0 400.0,2.0 400.0,89.5\" fill=\"none\" stroke=\"currentColor\"/>\n",
       "    <text dy=\"1.25em\" style=\"font-size: 0.8em; letter-spacing: 1px\">\n",
       "        <textPath xlink:href=\"#arrow-b04f039422d344d5bb5cc85751679bd5-0-1\" class=\"displacy-label\" startOffset=\"50%\" side=\"left\" fill=\"currentColor\" text-anchor=\"middle\">compound</textPath>\n",
       "    </text>\n",
       "    <path class=\"displacy-arrowhead\" d=\"M245,91.5 L237,79.5 253,79.5\" fill=\"currentColor\"/>\n",
       "</g>\n",
       "\n",
       "<g class=\"displacy-arrow\">\n",
       "    <path class=\"displacy-arc\" id=\"arrow-b04f039422d344d5bb5cc85751679bd5-0-2\" stroke-width=\"2px\" d=\"M420,89.5 C420,2.0 575.0,2.0 575.0,89.5\" fill=\"none\" stroke=\"currentColor\"/>\n",
       "    <text dy=\"1.25em\" style=\"font-size: 0.8em; letter-spacing: 1px\">\n",
       "        <textPath xlink:href=\"#arrow-b04f039422d344d5bb5cc85751679bd5-0-2\" class=\"displacy-label\" startOffset=\"50%\" side=\"left\" fill=\"currentColor\" text-anchor=\"middle\">nsubj</textPath>\n",
       "    </text>\n",
       "    <path class=\"displacy-arrowhead\" d=\"M420,91.5 L412,79.5 428,79.5\" fill=\"currentColor\"/>\n",
       "</g>\n",
       "\n",
       "<g class=\"displacy-arrow\">\n",
       "    <path class=\"displacy-arc\" id=\"arrow-b04f039422d344d5bb5cc85751679bd5-0-3\" stroke-width=\"2px\" d=\"M595,89.5 C595,2.0 750.0,2.0 750.0,89.5\" fill=\"none\" stroke=\"currentColor\"/>\n",
       "    <text dy=\"1.25em\" style=\"font-size: 0.8em; letter-spacing: 1px\">\n",
       "        <textPath xlink:href=\"#arrow-b04f039422d344d5bb5cc85751679bd5-0-3\" class=\"displacy-label\" startOffset=\"50%\" side=\"left\" fill=\"currentColor\" text-anchor=\"middle\">acomp</textPath>\n",
       "    </text>\n",
       "    <path class=\"displacy-arrowhead\" d=\"M750.0,91.5 L758.0,79.5 742.0,79.5\" fill=\"currentColor\"/>\n",
       "</g>\n",
       "</svg></span>"
      ],
      "text/plain": [
       "<IPython.core.display.HTML object>"
      ]
     },
     "metadata": {},
     "output_type": "display_data"
    }
   ],
   "source": [
    "spacy.displacy.render(doc2, style=\"dep\")"
   ]
  }
 ],
 "metadata": {
  "kernelspec": {
   "display_name": "Python 3 (ipykernel)",
   "language": "python",
   "name": "python3"
  },
  "language_info": {
   "codemirror_mode": {
    "name": "ipython",
    "version": 3
   },
   "file_extension": ".py",
   "mimetype": "text/x-python",
   "name": "python",
   "nbconvert_exporter": "python",
   "pygments_lexer": "ipython3",
   "version": "3.9.13"
  }
 },
 "nbformat": 4,
 "nbformat_minor": 5
}
