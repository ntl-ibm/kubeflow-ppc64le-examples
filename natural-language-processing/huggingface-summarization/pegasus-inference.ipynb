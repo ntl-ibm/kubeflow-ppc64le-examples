{
 "cells": [
  {
   "cell_type": "markdown",
   "id": "10a1a2fa-553e-4a25-b83d-0510b9512583",
   "metadata": {},
   "source": [
    "# Pipeline Reuse\n",
    "\n",
    "This notebook shows how to reuse an existing pipeline.  It assumes that the pipeline created by the summarization_pipeline script in this directory has been run, just past where the pipeline has been uploaded.\n",
    "\n",
    "From the Kubeflow dashboard, you should be able to find the pipeline in the 'pipelines' list. Create a run, using the summarize_exp experiment, and the following parameters:\n",
    "\n",
    "* source_repo: https://github.com/ntl-ibm/kubeflow-ppc64le-examples.git\n",
    "* source_branch: 3.0.0\n",
    "* source_context: natural-language-processing/huggingface-summarization/src\n",
    "* minio_endpoint: minio-service.kubeflow:9000\n",
    "* checkpoint: google/pegasus-xsum\n",
    "* model_max_length: 512\n",
    "* model_version: 1\n",
    "* epochs: 3\n",
    "* model_name: pegasus-xsum\n",
    "* prefix:\n",
    "* suffix:\n",
    "\n",
    "\n",
    "Training the model will take up to 20 minutes. When it completes, you can run inferences against the summarizer that is trained with the pegasus-xsum base model."
   ]
  },
  {
   "cell_type": "code",
   "execution_count": 1,
   "id": "5b8b16e9-e7ed-4335-afc8-55a7ce184f8a",
   "metadata": {},
   "outputs": [],
   "source": [
    "import requests\n",
    "import json\n",
    "import subprocess\n",
    "import yaml"
   ]
  },
  {
   "cell_type": "markdown",
   "id": "7a31d9b8-277c-499f-8b73-5a623462febe",
   "metadata": {},
   "source": [
    "## Retrieve the inference URL"
   ]
  },
  {
   "cell_type": "code",
   "execution_count": 6,
   "id": "d3610ee8-40d5-4488-9c64-61c7e7f1581b",
   "metadata": {},
   "outputs": [
    {
     "data": {
      "text/plain": [
       "'http://pegasus-xsum.ntl-us-ibm-com.svc.cluster.local/v1/models/pegasus-xsum:predict'"
      ]
     },
     "execution_count": 6,
     "metadata": {},
     "output_type": "execute_result"
    }
   ],
   "source": [
    "p = subprocess.run(\n",
    "    \"oc get inferenceservice pegasus-xsum -o yaml\", shell=True, stdout=subprocess.PIPE\n",
    ")\n",
    "\n",
    "desc = yaml.safe_load(p.stdout)\n",
    "url = desc[\"status\"][\"address\"][\"url\"]\n",
    "url"
   ]
  },
  {
   "cell_type": "markdown",
   "id": "32cc8743-4428-43cd-b948-52724f451278",
   "metadata": {},
   "source": [
    "## Sample text"
   ]
  },
  {
   "cell_type": "code",
   "execution_count": 24,
   "id": "d72205a0-2673-442f-9687-be5ca5cf7a1c",
   "metadata": {},
   "outputs": [
    {
     "name": "stdout",
     "output_type": "stream",
     "text": [
      "The Inflation Reduction Act lowers prescription drug costs, health\n",
      "care costs, and energy costs.  It's the most aggressive action on\n",
      "tackling the climate crisis in American history, which will lift up\n",
      "American workers and create good-paying, union jobs across the\n",
      "country. It'll lower the deficit and ask the ultra-wealthy and\n",
      "corporations to pay their fair share. And no one making under $400,000\n",
      "per year will pay a penny more in taxes.\n"
     ]
    }
   ],
   "source": [
    "text = \"The Inflation Reduction Act lowers prescription drug costs, health care costs, and energy costs.  It's the most aggressive action on tackling the climate crisis in American history, which will lift up American workers and create good-paying, union jobs across the country. It'll lower the deficit and ask the ultra-wealthy and corporations to pay their fair share. And no one making under $400,000 per year will pay a penny more in taxes.\"\n",
    "  \n",
    "import textwrap\n",
    "\n",
    "for line in textwrap.wrap(text, width=70):\n",
    "    print(line)"
   ]
  },
  {
   "cell_type": "markdown",
   "id": "771ad152-df84-4d4d-94fb-0ba4319500e4",
   "metadata": {},
   "source": [
    "## Inference"
   ]
  },
  {
   "cell_type": "code",
   "execution_count": 25,
   "id": "069c682e-f314-4318-9bd0-86fa5c70b633",
   "metadata": {},
   "outputs": [],
   "source": [
    "r = requests.post(url,\n",
    "              json=\n",
    "                  {\"instances\" : [text]}\n",
    "              )"
   ]
  },
  {
   "cell_type": "code",
   "execution_count": 26,
   "id": "e5e4ef7f-aa3d-4d0b-bed1-e7a5c38ffcbd",
   "metadata": {},
   "outputs": [
    {
     "name": "stdout",
     "output_type": "stream",
     "text": [
      "President Obama has signed into law one of the biggest tax cuts in\n",
      "history.\n"
     ]
    }
   ],
   "source": [
    "for line in textwrap.wrap(r.json()[\"summary\"], width=70):\n",
    "    print(line)"
   ]
  },
  {
   "cell_type": "markdown",
   "id": "a0ee2fef-e9aa-463d-8f8a-a0e27a62245a",
   "metadata": {},
   "source": [
    "## Hallucination\n",
    "\n",
    "The summary returned is clearly not correct. The original text says nothing about tax cuts, nor does it mention President Obama or signing the act into law.\n",
    "\n",
    "This is called a Hallucination, as the result appears legit, but is actually totally incorrect.\n",
    "\n",
    "Real world solutions would likely need to include human feedback into the training and evaluation to lower the risk of this type of problem happening in practice."
   ]
  },
  {
   "cell_type": "code",
   "execution_count": null,
   "id": "ea30c5d5-b045-4965-ab21-a7ce25416c5b",
   "metadata": {},
   "outputs": [],
   "source": []
  }
 ],
 "metadata": {
  "kernelspec": {
   "display_name": "Python 3 (ipykernel)",
   "language": "python",
   "name": "python3"
  },
  "language_info": {
   "codemirror_mode": {
    "name": "ipython",
    "version": 3
   },
   "file_extension": ".py",
   "mimetype": "text/x-python",
   "name": "python",
   "nbconvert_exporter": "python",
   "pygments_lexer": "ipython3",
   "version": "3.9.16"
  }
 },
 "nbformat": 4,
 "nbformat_minor": 5
}
