{
 "cells": [
  {
   "cell_type": "code",
   "execution_count": 1,
   "id": "ebe8556f-84d3-4382-ae8b-11582fce7b7e",
   "metadata": {},
   "outputs": [],
   "source": [
    "import subprocess\n",
    "import yaml\n",
    "import requests\n",
    "import textwrap\n",
    "import json\n",
    "from IPython.display import Image\n",
    "import time"
   ]
  },
  {
   "cell_type": "markdown",
   "id": "092c459a-1a78-4759-a3fd-da9eb57ae852",
   "metadata": {},
   "source": [
    "# Question and Answering inference application\n",
    "\n",
    "In the huggingface-question-answering/pipeline/question-answering notebook, we trained and deployed an inference server (containing a distillbert model) that can be used for question and answering.\n",
    "\n",
    "This notebook will deploy an application that uses the inference server to answer questions.\n",
    "\n",
    "The application will:\n",
    "* Accept a question\n",
    "* Find the entity of the question (using spacy language models)\n",
    "* Retrieve the conext for the entity from Wikipedia\n",
    "* Tokenize question & context\n",
    "* Invoke the inference service\n",
    "* Interpret the service's response\n",
    "\n",
    "Figure 1 shows a drawing of the application.\n"
   ]
  },
  {
   "cell_type": "code",
   "execution_count": 2,
   "id": "fb4f869b-f463-47b5-92bc-b50d8062c734",
   "metadata": {},
   "outputs": [
    {
     "ename": "FileNotFoundError",
     "evalue": "[Errno 2] No such file or directory: 'Application.jpg'",
     "output_type": "error",
     "traceback": [
      "\u001b[0;31m---------------------------------------------------------------------------\u001b[0m",
      "\u001b[0;31mFileNotFoundError\u001b[0m                         Traceback (most recent call last)",
      "Cell \u001b[0;32mIn[2], line 1\u001b[0m\n\u001b[0;32m----> 1\u001b[0m i \u001b[38;5;241m=\u001b[39m \u001b[43mImage\u001b[49m\u001b[43m(\u001b[49m\u001b[43mfilename\u001b[49m\u001b[38;5;241;43m=\u001b[39;49m\u001b[38;5;124;43m\"\u001b[39;49m\u001b[38;5;124;43mApplication.jpg\u001b[39;49m\u001b[38;5;124;43m\"\u001b[39;49m\u001b[43m,\u001b[49m\u001b[43m \u001b[49m\u001b[43mwidth\u001b[49m\u001b[38;5;241;43m=\u001b[39;49m\u001b[38;5;241;43m800\u001b[39;49m\u001b[43m,\u001b[49m\u001b[43m \u001b[49m\u001b[43malt\u001b[49m\u001b[38;5;241;43m=\u001b[39;49m\u001b[38;5;124;43m'\u001b[39;49m\u001b[38;5;124;43mDrawing of application\u001b[39;49m\u001b[38;5;124;43m'\u001b[39;49m\u001b[43m)\u001b[49m\n\u001b[1;32m      2\u001b[0m display(i)\n\u001b[1;32m      3\u001b[0m \u001b[38;5;28mprint\u001b[39m(\u001b[38;5;124m'\u001b[39m\u001b[38;5;124mFigure 1 - Application components and interactions\u001b[39m\u001b[38;5;124m'\u001b[39m)\n",
      "File \u001b[0;32m/opt/conda/lib/python3.9/site-packages/IPython/core/display.py:970\u001b[0m, in \u001b[0;36mImage.__init__\u001b[0;34m(self, data, url, filename, format, embed, width, height, retina, unconfined, metadata, alt)\u001b[0m\n\u001b[1;32m    968\u001b[0m \u001b[38;5;28mself\u001b[39m\u001b[38;5;241m.\u001b[39munconfined \u001b[38;5;241m=\u001b[39m unconfined\n\u001b[1;32m    969\u001b[0m \u001b[38;5;28mself\u001b[39m\u001b[38;5;241m.\u001b[39malt \u001b[38;5;241m=\u001b[39m alt\n\u001b[0;32m--> 970\u001b[0m \u001b[38;5;28;43msuper\u001b[39;49m\u001b[43m(\u001b[49m\u001b[43mImage\u001b[49m\u001b[43m,\u001b[49m\u001b[43m \u001b[49m\u001b[38;5;28;43mself\u001b[39;49m\u001b[43m)\u001b[49m\u001b[38;5;241;43m.\u001b[39;49m\u001b[38;5;21;43m__init__\u001b[39;49m\u001b[43m(\u001b[49m\u001b[43mdata\u001b[49m\u001b[38;5;241;43m=\u001b[39;49m\u001b[43mdata\u001b[49m\u001b[43m,\u001b[49m\u001b[43m \u001b[49m\u001b[43murl\u001b[49m\u001b[38;5;241;43m=\u001b[39;49m\u001b[43murl\u001b[49m\u001b[43m,\u001b[49m\u001b[43m \u001b[49m\u001b[43mfilename\u001b[49m\u001b[38;5;241;43m=\u001b[39;49m\u001b[43mfilename\u001b[49m\u001b[43m,\u001b[49m\n\u001b[1;32m    971\u001b[0m \u001b[43m        \u001b[49m\u001b[43mmetadata\u001b[49m\u001b[38;5;241;43m=\u001b[39;49m\u001b[43mmetadata\u001b[49m\u001b[43m)\u001b[49m\n\u001b[1;32m    973\u001b[0m \u001b[38;5;28;01mif\u001b[39;00m \u001b[38;5;28mself\u001b[39m\u001b[38;5;241m.\u001b[39mwidth \u001b[38;5;129;01mis\u001b[39;00m \u001b[38;5;28;01mNone\u001b[39;00m \u001b[38;5;129;01mand\u001b[39;00m \u001b[38;5;28mself\u001b[39m\u001b[38;5;241m.\u001b[39mmetadata\u001b[38;5;241m.\u001b[39mget(\u001b[38;5;124m'\u001b[39m\u001b[38;5;124mwidth\u001b[39m\u001b[38;5;124m'\u001b[39m, {}):\n\u001b[1;32m    974\u001b[0m     \u001b[38;5;28mself\u001b[39m\u001b[38;5;241m.\u001b[39mwidth \u001b[38;5;241m=\u001b[39m metadata[\u001b[38;5;124m'\u001b[39m\u001b[38;5;124mwidth\u001b[39m\u001b[38;5;124m'\u001b[39m]\n",
      "File \u001b[0;32m/opt/conda/lib/python3.9/site-packages/IPython/core/display.py:327\u001b[0m, in \u001b[0;36mDisplayObject.__init__\u001b[0;34m(self, data, url, filename, metadata)\u001b[0m\n\u001b[1;32m    324\u001b[0m \u001b[38;5;28;01melif\u001b[39;00m \u001b[38;5;28mself\u001b[39m\u001b[38;5;241m.\u001b[39mmetadata \u001b[38;5;129;01mis\u001b[39;00m \u001b[38;5;28;01mNone\u001b[39;00m:\n\u001b[1;32m    325\u001b[0m     \u001b[38;5;28mself\u001b[39m\u001b[38;5;241m.\u001b[39mmetadata \u001b[38;5;241m=\u001b[39m {}\n\u001b[0;32m--> 327\u001b[0m \u001b[38;5;28;43mself\u001b[39;49m\u001b[38;5;241;43m.\u001b[39;49m\u001b[43mreload\u001b[49m\u001b[43m(\u001b[49m\u001b[43m)\u001b[49m\n\u001b[1;32m    328\u001b[0m \u001b[38;5;28mself\u001b[39m\u001b[38;5;241m.\u001b[39m_check_data()\n",
      "File \u001b[0;32m/opt/conda/lib/python3.9/site-packages/IPython/core/display.py:1005\u001b[0m, in \u001b[0;36mImage.reload\u001b[0;34m(self)\u001b[0m\n\u001b[1;32m   1003\u001b[0m \u001b[38;5;124;03m\"\"\"Reload the raw data from file or URL.\"\"\"\u001b[39;00m\n\u001b[1;32m   1004\u001b[0m \u001b[38;5;28;01mif\u001b[39;00m \u001b[38;5;28mself\u001b[39m\u001b[38;5;241m.\u001b[39membed:\n\u001b[0;32m-> 1005\u001b[0m     \u001b[38;5;28;43msuper\u001b[39;49m\u001b[43m(\u001b[49m\u001b[43mImage\u001b[49m\u001b[43m,\u001b[49m\u001b[38;5;28;43mself\u001b[39;49m\u001b[43m)\u001b[49m\u001b[38;5;241;43m.\u001b[39;49m\u001b[43mreload\u001b[49m\u001b[43m(\u001b[49m\u001b[43m)\u001b[49m\n\u001b[1;32m   1006\u001b[0m     \u001b[38;5;28;01mif\u001b[39;00m \u001b[38;5;28mself\u001b[39m\u001b[38;5;241m.\u001b[39mretina:\n\u001b[1;32m   1007\u001b[0m         \u001b[38;5;28mself\u001b[39m\u001b[38;5;241m.\u001b[39m_retina_shape()\n",
      "File \u001b[0;32m/opt/conda/lib/python3.9/site-packages/IPython/core/display.py:353\u001b[0m, in \u001b[0;36mDisplayObject.reload\u001b[0;34m(self)\u001b[0m\n\u001b[1;32m    351\u001b[0m \u001b[38;5;28;01mif\u001b[39;00m \u001b[38;5;28mself\u001b[39m\u001b[38;5;241m.\u001b[39mfilename \u001b[38;5;129;01mis\u001b[39;00m \u001b[38;5;129;01mnot\u001b[39;00m \u001b[38;5;28;01mNone\u001b[39;00m:\n\u001b[1;32m    352\u001b[0m     encoding \u001b[38;5;241m=\u001b[39m \u001b[38;5;28;01mNone\u001b[39;00m \u001b[38;5;28;01mif\u001b[39;00m \u001b[38;5;124m\"\u001b[39m\u001b[38;5;124mb\u001b[39m\u001b[38;5;124m\"\u001b[39m \u001b[38;5;129;01min\u001b[39;00m \u001b[38;5;28mself\u001b[39m\u001b[38;5;241m.\u001b[39m_read_flags \u001b[38;5;28;01melse\u001b[39;00m \u001b[38;5;124m\"\u001b[39m\u001b[38;5;124mutf-8\u001b[39m\u001b[38;5;124m\"\u001b[39m\n\u001b[0;32m--> 353\u001b[0m     \u001b[38;5;28;01mwith\u001b[39;00m \u001b[38;5;28;43mopen\u001b[39;49m\u001b[43m(\u001b[49m\u001b[38;5;28;43mself\u001b[39;49m\u001b[38;5;241;43m.\u001b[39;49m\u001b[43mfilename\u001b[49m\u001b[43m,\u001b[49m\u001b[43m \u001b[49m\u001b[38;5;28;43mself\u001b[39;49m\u001b[38;5;241;43m.\u001b[39;49m\u001b[43m_read_flags\u001b[49m\u001b[43m,\u001b[49m\u001b[43m \u001b[49m\u001b[43mencoding\u001b[49m\u001b[38;5;241;43m=\u001b[39;49m\u001b[43mencoding\u001b[49m\u001b[43m)\u001b[49m \u001b[38;5;28;01mas\u001b[39;00m f:\n\u001b[1;32m    354\u001b[0m         \u001b[38;5;28mself\u001b[39m\u001b[38;5;241m.\u001b[39mdata \u001b[38;5;241m=\u001b[39m f\u001b[38;5;241m.\u001b[39mread()\n\u001b[1;32m    355\u001b[0m \u001b[38;5;28;01melif\u001b[39;00m \u001b[38;5;28mself\u001b[39m\u001b[38;5;241m.\u001b[39murl \u001b[38;5;129;01mis\u001b[39;00m \u001b[38;5;129;01mnot\u001b[39;00m \u001b[38;5;28;01mNone\u001b[39;00m:\n\u001b[1;32m    356\u001b[0m     \u001b[38;5;66;03m# Deferred import\u001b[39;00m\n",
      "\u001b[0;31mFileNotFoundError\u001b[0m: [Errno 2] No such file or directory: 'Application.jpg'"
     ]
    }
   ],
   "source": [
    "i = Image(filename=\"Application.jpg\", width=800, alt='Drawing of application')\n",
    "display(i)\n",
    "print('Figure 1 - Application components and interactions')"
   ]
  },
  {
   "cell_type": "markdown",
   "id": "b747ac3c-978e-422c-a2b7-de594aa39d1f",
   "metadata": {},
   "source": [
    "## Inference Service name and model name\n",
    "\n",
    "Kubeflow has defined a k8s custom resource for `InferenceService`.\n",
    "\n",
    "Our question and answering pipeline has deployed an InferenceService, with our trained model \"preloaded\" (The model is saved in ONNX format, and stored on a pvc mounted to the service).\n",
    "\n",
    "The inference_service_name and model name were set when the deploy pipeline ran."
   ]
  },
  {
   "cell_type": "code",
   "execution_count": 8,
   "id": "2d23dade-95b6-42ac-8fce-2aa5cf645858",
   "metadata": {},
   "outputs": [],
   "source": [
    "model_name='question-answering'\n",
    "inference_service_name='question-answering'"
   ]
  },
  {
   "cell_type": "markdown",
   "id": "a55a6f68-8149-4e03-bd3d-f3f0af414a94",
   "metadata": {},
   "source": [
    "# Namespace\n",
    "\n",
    "The notebook's container received information about it's deployed namespace when it was deployed. The documentation for communicating with k8s from within a pod is described here: https://kubernetes.io/docs/tasks/run-application/access-api-from-pod/#directly-accessing-the-rest-api"
   ]
  },
  {
   "cell_type": "code",
   "execution_count": 9,
   "id": "51d3e248-97d3-4b65-81b2-c073fff64a75",
   "metadata": {},
   "outputs": [],
   "source": [
    "with open(\"/var/run/secrets/kubernetes.io/serviceaccount/namespace\") as f:\n",
    "         namespace = f.read()"
   ]
  },
  {
   "cell_type": "markdown",
   "id": "a731cdaa-3e04-42a6-b37f-cc5174c45f4a",
   "metadata": {},
   "source": [
    "## Working with the inference service\n",
    "\n",
    "The deployed inference service is shown in the \"models\" tab of the kubeflow UI. The `kubectl` commands can be used to retrieve information about the resource programmatically. \n"
   ]
  },
  {
   "cell_type": "code",
   "execution_count": 10,
   "id": "2e8ef648-addf-4a36-b174-5a347bfd7607",
   "metadata": {},
   "outputs": [],
   "source": [
    "p = subprocess.run(f'kubectl get InferenceService {inference_service_name} -o yaml', shell=True, stdout=subprocess.PIPE)"
   ]
  },
  {
   "cell_type": "code",
   "execution_count": 33,
   "id": "eb5cdabb-5c07-4876-96c2-97d7a804f7f0",
   "metadata": {},
   "outputs": [
    {
     "name": "stdout",
     "output_type": "stream",
     "text": [
      "apiVersion: serving.kserve.io/v1beta1\n",
      "kind: InferenceService\n",
      "metadata:\n",
      "  annotations:\n",
      "    kubectl.kubernetes.io/last-applied-configuration: |\n",
      "      {\"apiVersion\":\"serving.kserve.io/v1beta1\",\"kind\":\"InferenceService\",\"metadata\":{\"annotations\":{\"sidecar.istio.io/inject\":\"false\"},\"name\":\"question-answering\",\"namespace\":\"kubeflow-ntl\"},\"spec\":{\"predictor\":{\"serviceAccountName\":\"kserve-inference-sa\",\"triton\":{\"args\":[\"--strict-model-config=false\"],\"env\":[{\"name\":\"OMP_NUM_THREADS\",\"value\":\"1\"}],\"ports\":null,\"resources\":{\"limits\":null},\"runtimeVersion\":\"22.03-py3\",\"storageUri\":\"s3://kubeflow-ntl-nlp/onnx\"}}}}\n",
      "    sidecar.istio.io/inject: \"false\"\n",
      "  creationTimestamp: \"2023-01-31T18:44:57Z\"\n",
      "  finalizers:\n",
      "  - inferenceservice.finalizers\n",
      "  generation: 1\n",
      "  name: question-answering\n",
      "  namespace: kubeflow-ntl\n",
      "  resourceVersion: \"75286014\"\n",
      "  uid: 6721f38c-dada-4631-8f15-3b3c1ef57207\n",
      "spec:\n",
      "  predictor:\n",
      "    model:\n",
      "      args:\n",
      "      - --strict-model-config=false\n",
      "      env:\n",
      "      - name: OMP_NUM_THREADS\n",
      "        value: \"1\"\n",
      "      modelFormat:\n",
      "        name: triton\n",
      "      name: \"\"\n",
      "      resources: {}\n",
      "      runtime: kserve-tritonserver\n",
      "      runtimeVersion: 22.03-py3\n",
      "      storageUri: s3://kubeflow-ntl-nlp/onnx\n",
      "    serviceAccountName: kserve-inference-sa\n",
      "status:\n",
      "  address:\n",
      "    url: http://question-answering.kubeflow-ntl.svc.cluster.local/v2/models/question-answering/infer\n",
      "  components:\n",
      "    predictor:\n",
      "      address:\n",
      "        url: http://question-answering-predictor-default.kubeflow-ntl.svc.cluster.local\n",
      "      latestCreatedRevision: question-answering-predictor-default-00001\n",
      "      latestReadyRevision: question-answering-predictor-default-00001\n",
      "      latestRolledoutRevision: question-answering-predictor-default-00001\n",
      "      traffic:\n",
      "      - latestRevision: true\n",
      "        percent: 100\n",
      "        revisionName: question-answering-predictor-default-00001\n",
      "      url: http://question-answering-predictor-default.kubeflow-ntl.example.com\n",
      "  conditions:\n",
      "  - lastTransitionTime: \"2023-01-31T18:45:23Z\"\n",
      "    status: \"True\"\n",
      "    type: IngressReady\n",
      "  - lastTransitionTime: \"2023-01-31T18:45:22Z\"\n",
      "    severity: Info\n",
      "    status: \"True\"\n",
      "    type: PredictorConfigurationReady\n",
      "  - lastTransitionTime: \"2023-01-31T18:45:23Z\"\n",
      "    status: \"True\"\n",
      "    type: PredictorReady\n",
      "  - lastTransitionTime: \"2023-01-31T18:45:23Z\"\n",
      "    severity: Info\n",
      "    status: \"True\"\n",
      "    type: PredictorRouteReady\n",
      "  - lastTransitionTime: \"2023-01-31T18:45:23Z\"\n",
      "    status: \"True\"\n",
      "    type: Ready\n",
      "  url: http://question-answering.kubeflow-ntl.example.com\n",
      "\n"
     ]
    }
   ],
   "source": [
    "print(p.stdout.decode('utf-8'))\n",
    "inference_service_spec = yaml.safe_load(p.stdout)"
   ]
  },
  {
   "cell_type": "code",
   "execution_count": 37,
   "id": "9b53c834-0d6a-493f-a33a-f15597ba0f56",
   "metadata": {},
   "outputs": [
    {
     "name": "stdout",
     "output_type": "stream",
     "text": [
      "http://question-answering.kubeflow-ntl.svc.cluster.local/v2/models/question-answering/infer\n"
     ]
    }
   ],
   "source": [
    "inference_url = inference_service_spec[\"status\"][\"address\"][\"url\"]\n",
    "print(inference_url)"
   ]
  },
  {
   "cell_type": "markdown",
   "id": "736b49c0-0008-45ad-b867-00b6643c5a2d",
   "metadata": {},
   "source": [
    "## Create a deployment for the application\n",
    "\n",
    "A container for the application has already been built, and is stored at quay.io/mdeloche/kubeflow-fastapi:1.0.\n",
    "\n",
    "We will create a k8s deployment to deploy the application. A deployment consists of one or more replicas of the application's container. In this example we will only have one replica, but in a production environment, creating more replicas will allow us to scale up the application as demand increases.\n",
    "\n",
    "The application's container will listen on port 5000. \n",
    "\n",
    "We will create a service for that container & port. Creating a service allows the notebook to communicate with the application, without need a specific container name.\n",
    "\n",
    "The inference service has already been deployed, and it is not part of this deployment."
   ]
  },
  {
   "cell_type": "code",
   "execution_count": 38,
   "id": "1593389d-9974-4852-84ea-b2eb8363722d",
   "metadata": {},
   "outputs": [],
   "source": [
    "app_name = 'question-answering-app'\n",
    "service_name = 'question-answering-svc'\n",
    "\n",
    "yaml_spec = textwrap.dedent(f'''\n",
    "    kind: Deployment\n",
    "    apiVersion: apps/v1\n",
    "    metadata:\n",
    "      name: {app_name}\n",
    "      labels:\n",
    "        app: {app_name}\n",
    "    spec:\n",
    "      replicas: 1\n",
    "      selector:\n",
    "        matchLabels:\n",
    "          app: {app_name}\n",
    "      template:\n",
    "        metadata:\n",
    "          labels:\n",
    "            app: {app_name}\n",
    "        spec:\n",
    "          containers:\n",
    "          - name: fastapi\n",
    "            image: quay.io/mdeloche/kubeflow-fastapi:1.0\n",
    "            imagePullPolicy: IfNotPresent\n",
    "            ports:\n",
    "            - containerPort: 5000\n",
    "              name: http-pred-port\n",
    "    ---\n",
    "    apiVersion: v1\n",
    "    kind: Service\n",
    "    metadata:\n",
    "      name: {service_name}\n",
    "    spec:\n",
    "      selector:\n",
    "        app: {app_name}\n",
    "      ports:\n",
    "      - name: backend-port\n",
    "        port: 5000\n",
    "      sessionAffinity: None\n",
    "''')"
   ]
  },
  {
   "cell_type": "code",
   "execution_count": 39,
   "id": "9f991950-a517-4ee6-be2e-bc4b43db560f",
   "metadata": {},
   "outputs": [
    {
     "name": "stdout",
     "output_type": "stream",
     "text": [
      "deployment.apps/question-answering-app unchanged\n",
      "service/question-answering-svc unchanged\n"
     ]
    }
   ],
   "source": [
    "# kubectl apply file is taken from standard input\n",
    "sp = subprocess.Popen('kubectl apply -f -', shell=True, stdin=subprocess.PIPE)\n",
    "_ = sp.communicate(input=yaml_spec.encode('utf-8'))"
   ]
  },
  {
   "cell_type": "code",
   "execution_count": 40,
   "id": "ef22ab94-4605-4333-bcd4-fcc7461f910a",
   "metadata": {},
   "outputs": [
    {
     "name": "stdout",
     "output_type": "stream",
     "text": [
      "deployment \"question-answering-app\" successfully rolled out\n"
     ]
    }
   ],
   "source": [
    "# need to wait until rollout is complete before proceeding\n",
    "sp = subprocess.run(f'kubectl rollout status deploy/{app_name}', shell=True)"
   ]
  },
  {
   "cell_type": "markdown",
   "id": "2b15d0da-bd1c-445f-94ee-c35f1aca70fb",
   "metadata": {},
   "source": [
    "Our application doesn't have any APIs to determine if it is ready, so it might not really be up even when it is deployed.\n",
    "A complete application would include a readiness API, and specify a readinessProbe on the deployment. \n",
    "Some information about liveness and readiness can be found here https://kubernetes.io/docs/tasks/configure-pod-container/configure-liveness-readiness-startup-probes/\n",
    "\n",
    "The startup time is resolved here with a simple wait on time. If liveness and readiness probes were used, then this wait would not be necessary. The rollout would not complete until the pods are ready."
   ]
  },
  {
   "cell_type": "code",
   "execution_count": 41,
   "id": "9d461fd1-b20d-4c7f-b84d-633fda9a3ca7",
   "metadata": {},
   "outputs": [],
   "source": [
    "time.sleep(15)"
   ]
  },
  {
   "cell_type": "markdown",
   "id": "56195912-fb38-40a5-83af-831a7eda7404",
   "metadata": {},
   "source": [
    "### Application URL\n",
    "\n",
    "The service has a URL `{service_name}.{namespace}.svc.cluster.local`\n",
    "\n",
    "Port 5000 has been exposed to the cluster.\n",
    "\n",
    "The container implements a `predict` API. We will invoke this to leverage our inferences."
   ]
  },
  {
   "cell_type": "code",
   "execution_count": 42,
   "id": "e0c09f05-437b-412b-8fe9-3f13b3f1dbf8",
   "metadata": {},
   "outputs": [],
   "source": [
    "application_service_url = f'http://{service_name}.{namespace}.svc.cluster.local:5000/predict'"
   ]
  },
  {
   "cell_type": "markdown",
   "id": "c37bdda2-7eda-44a4-a062-c3be907b8e74",
   "metadata": {},
   "source": [
    "# Interact with the application\n",
    "\n",
    "In addition to the question, the predict API needs to know the URL for the inference service, the API URL is built by combining the predictor's URL with the infer API."
   ]
  },
  {
   "cell_type": "markdown",
   "id": "4c192152-d5fc-4c6c-98f7-0cdf787ebc72",
   "metadata": {},
   "source": [
    "This is a helper function to invoke the application, and parse out the response"
   ]
  },
  {
   "cell_type": "code",
   "execution_count": 43,
   "id": "f95c1015-adee-437a-9a14-fd7c7b0556c7",
   "metadata": {},
   "outputs": [],
   "source": [
    "def ask_question(question: str) -> str:\n",
    "    r=requests.post(application_service_url,\n",
    "                  data=json.dumps({\n",
    "                    \"question\": question,\n",
    "                    \"backend\" : \"Triton Inference Server\",\n",
    "                    \"inference_url\": inference_url\n",
    "                  }))\n",
    "\n",
    "    try:\n",
    "        return r.json()['answer']\n",
    "    except Exception as e:\n",
    "        print(f'{r.status_code} \\n {r.text}')"
   ]
  },
  {
   "cell_type": "markdown",
   "id": "0e61eea5-3fe3-448b-a963-2abcf6d13fbb",
   "metadata": {},
   "source": [
    "## Examples\n",
    "\n",
    "Because the context for these examples is obtained from Wikipedia, and because Wikipedia is subject to frequent updates and modifications, these examples can change without notice.\n",
    "\n",
    "There is a great deal that could be done to improve the model for better results, but it is good enough to provide an idea."
   ]
  },
  {
   "cell_type": "code",
   "execution_count": 24,
   "id": "0788793a-cd05-4a0f-8a15-63b9038a2738",
   "metadata": {},
   "outputs": [
    {
     "data": {
      "text/plain": [
       "'13'"
      ]
     },
     "execution_count": 24,
     "metadata": {},
     "output_type": "execute_result"
    }
   ],
   "source": [
    "ask_question('How many championships have the Green Bay Packers won?')"
   ]
  },
  {
   "cell_type": "code",
   "execution_count": 25,
   "id": "d1d397d7-73d3-42c7-9ab2-1f9193f6f559",
   "metadata": {},
   "outputs": [
    {
     "data": {
      "text/plain": [
       "'nine'"
      ]
     },
     "execution_count": 25,
     "metadata": {},
     "output_type": "execute_result"
    }
   ],
   "source": [
    "ask_question('How many times have the Chicago Bears been champions?')"
   ]
  },
  {
   "cell_type": "code",
   "execution_count": 27,
   "id": "42612314-fb84-447c-816c-fe850470afb8",
   "metadata": {},
   "outputs": [
    {
     "data": {
      "text/plain": [
       "'armonk'"
      ]
     },
     "execution_count": 27,
     "metadata": {},
     "output_type": "execute_result"
    }
   ],
   "source": [
    "ask_question('Where is IBM headquarters?')"
   ]
  },
  {
   "cell_type": "code",
   "execution_count": 29,
   "id": "235b577a-5247-4d6f-8eb2-342e45f59067",
   "metadata": {},
   "outputs": [
    {
     "data": {
      "text/plain": [
       "'over 175 countries'"
      ]
     },
     "execution_count": 29,
     "metadata": {},
     "output_type": "execute_result"
    }
   ],
   "source": [
    "ask_question('How many countries does IBM operate in?')"
   ]
  },
  {
   "cell_type": "markdown",
   "id": "299f3001-79ed-46f8-bed9-c64bb9b0efc4",
   "metadata": {},
   "source": [
    "## Future: Integration with Kubeflow\n",
    "\n",
    "A possible future step is to integrate the application deployment into the Kubeflow pipeline. This can be accomplished by creating a kubeflow component for the deploy, and adding the component into the pipeline after the InferenceService is deployed.\n",
    "\n",
    "Once inserted into the pipeline, the deploy of the application will be automated and happen at the same time the model is deployed."
   ]
  },
  {
   "cell_type": "markdown",
   "id": "2179fdbf-bebc-488d-bfca-30b5cd850627",
   "metadata": {},
   "source": [
    "## Future: Creating a complete web interface\n",
    "\n",
    "It would be advantageous to create a web service, so that questions can be asked and answered in a browser. \n",
    "\n",
    "The container image `quay.io/mdeloche/kubeflow-streamlit:1.0` is designed to be integrated with our application to provide this function.\n",
    "\n",
    "This container provides a webservice to work with our application as shown in Figure 2."
   ]
  },
  {
   "cell_type": "code",
   "execution_count": null,
   "id": "4d8369fd-1b4b-474a-80d8-25489135a11d",
   "metadata": {},
   "outputs": [],
   "source": [
    "i = Image(filename=\"web-application.jpg\", width=800, alt='Drawing of application')\n",
    "display(i)\n",
    "print(\"Figure 2 - Drawing the web application's components and interactions\")"
   ]
  },
  {
   "cell_type": "markdown",
   "id": "df2baa32-e821-480d-819f-76efa25c86d4",
   "metadata": {},
   "source": [
    "\n",
    "Setting up such an application would be a more complete solution, but it is not in the lab because:\n",
    "\n",
    "* The Streamlit service must be exposed outside the cluster (Gateway or NodePort)\n",
    "  * An authorization policy needs to be created to allow external access.\n",
    "  * Ideally, access would be authenticated through dex, as opposed to simple NodePort allowing access by anyone\n",
    "* Admin authority is required to create the authorization policy."
   ]
  },
  {
   "cell_type": "markdown",
   "id": "f3469900-a93f-42aa-8d56-5f49d49d7410",
   "metadata": {},
   "source": [
    "## cleanup"
   ]
  },
  {
   "cell_type": "code",
   "execution_count": 44,
   "id": "842b633d-1bb1-4e01-a803-cd3ae6ddf8b7",
   "metadata": {},
   "outputs": [
    {
     "name": "stdout",
     "output_type": "stream",
     "text": [
      "deployment.apps \"question-answering-app\" deleted\n"
     ]
    }
   ],
   "source": [
    "!kubectl delete deployment {app_name}"
   ]
  },
  {
   "cell_type": "code",
   "execution_count": 45,
   "id": "f24ceae9-67d2-42be-8d4d-42e7ee657108",
   "metadata": {},
   "outputs": [
    {
     "name": "stdout",
     "output_type": "stream",
     "text": [
      "service \"question-answering-svc\" deleted\n"
     ]
    }
   ],
   "source": [
    "!kubectl delete service {service_name}"
   ]
  }
 ],
 "metadata": {
  "kernelspec": {
   "display_name": "Python 3 (ipykernel)",
   "language": "python",
   "name": "python3"
  },
  "language_info": {
   "codemirror_mode": {
    "name": "ipython",
    "version": 3
   },
   "file_extension": ".py",
   "mimetype": "text/x-python",
   "name": "python",
   "nbconvert_exporter": "python",
   "pygments_lexer": "ipython3",
   "version": "3.9.13"
  }
 },
 "nbformat": 4,
 "nbformat_minor": 5
}
