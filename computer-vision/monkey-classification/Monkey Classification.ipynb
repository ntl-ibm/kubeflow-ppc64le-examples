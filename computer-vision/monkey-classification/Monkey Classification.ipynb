{
 "cells": [
  {
   "cell_type": "markdown",
   "id": "changing-medication",
   "metadata": {},
   "source": [
    "# Monkey Classification: End-to-end Pipeline\n",
    "In this notebook we're going to show how you can train and serve a simple model using Kubeflow pipelines!<br>\n",
    "\n",
    "The dataset we're using consists of two folders; training and validation. Each folder contains 10 subforders labeled as n0~n9, each corresponding a species from Wikipedia's monkey cladogram. Images are 400x300 px or larger and JPEG format.\n",
    "\n",
    "You'll need:\n",
    "- Just this notebook\n",
    "- Kubeflow deployed on either OpenShift or Kubernetes (make sure it is on IBM Power, we don't support x86!)\n",
    "- Internet connection to download the sample images (you can also manually upload them to your preferred S3 bucket - e.g. minio)\n",
    "\n",
    "Datasource: https://www.kaggle.com/slothkong/10-monkey-species\n",
    "\n",
    "## Authors\n",
    "- Marvin Giessing <MARVING@de.ibm.com>\n",
    "- Sebastian Lehrig <sebastian.lehrig1@ibm.com>\n",
    "\n",
    "## References\n",
    "- https://www.philschmid.de/image-classification-huggingface-transformers-keras\n",
    "- https://discuss.huggingface.co/t/solved-image-dataset-seems-slow-for-larger-image-size/10960/6\n",
    "\n",
    "## License\n",
    "Apache-2.0 License"
   ]
  },
  {
   "cell_type": "markdown",
   "id": "automotive-think",
   "metadata": {},
   "source": [
    "## 0.) Imports & Constants"
   ]
  },
  {
   "cell_type": "code",
   "execution_count": 256,
   "id": "f8472735-d399-41fc-bdae-e9116de11b17",
   "metadata": {},
   "outputs": [],
   "source": [
    "import cv2\n",
    "import json\n",
    "import kfp\n",
    "from typing import NamedTuple\n",
    "from kfp.components import (\n",
    "    InputPath,\n",
    "    OutputPath\n",
    ")\n",
    "import kfp.dsl as dsl\n",
    "from kfp.dsl import (\n",
    "    PipelineConf,\n",
    "    data_passing_methods\n",
    ")\n",
    "from kubernetes.client.models import (\n",
    "    V1Volume,\n",
    "    V1PersistentVolumeClaimVolumeSource\n",
    ")\n",
    "import matplotlib.image as mpimg\n",
    "import matplotlib.pyplot as plt\n",
    "import numpy as np\n",
    "import os\n",
    "import requests"
   ]
  },
  {
   "cell_type": "code",
   "execution_count": 257,
   "id": "pacific-writing",
   "metadata": {},
   "outputs": [
    {
     "data": {
      "text/plain": [
       "'user-example-com'"
      ]
     },
     "execution_count": 257,
     "metadata": {},
     "output_type": "execute_result"
    }
   ],
   "source": [
    "COMPONENT_CATALOG_FOLDER = f\"{os.getenv('HOME')}/components\"\n",
    "COMPONENT_CATALOG_GIT = \"https://github.com/ntl-ibm/kubeflow-ppc64le-components.git\"\n",
    "COMPONENT_CATALOG_RELEASE = \"v20220823\"\n",
    "\n",
    "LOAD_DATASET_COMPONENT = f\"{COMPONENT_CATALOG_FOLDER}/data-collection/load-dataset/component.yaml\"\n",
    "TRAIN_MODEL_COMPONENT = f\"{COMPONENT_CATALOG_FOLDER}/model-building/train-model-job/component.yaml\"\n",
    "PLOT_CONFUSION_MATRIX_COMPONENT = f\"{COMPONENT_CATALOG_FOLDER}/model-building/plot-confusion-matrix/component.yaml\"\n",
    "CONVERT_MODEL_TO_ONNX_COMPONENT = f\"{COMPONENT_CATALOG_FOLDER}/model-building/convert-to-onnx/component.yaml\"\n",
    "UPLOAD_MODEL_COMPONENT = f\"{COMPONENT_CATALOG_FOLDER}/model-building/upload-model/component.yaml\"\n",
    "DEPLOY_MODEL_WITH_KSERVE_COMPONENT = f\"{COMPONENT_CATALOG_FOLDER}/model-deployment/deploy-model-with-kserve/component.yaml\"\n",
    "\n",
    "BASE_IMAGE = \"quay.io/ibm/kubeflow-notebook-image-ppc64le:elyra3.10.1-py3.8-tf2.8.0-v2\"\n",
    "\n",
    "ARGUMENTS = {\n",
    "    'blackboard': 'artefacts',\n",
    "    'dataset_url': 'Lehrig/Monkey-Species-Collection',\n",
    "    'dataset_configuration': 'downsized',\n",
    "    'dataset_label_column': 'label',\n",
    "    'model_name': \"monkey-classification\",\n",
    "    'minio_url': 'minio-service.kubeflow:9000',\n",
    "    'minio_user': os.getenv('MINIO_ID'),\n",
    "    'minio_pass': os.getenv('MINIO_PWD')\n",
    "}\n",
    "MODEL_NAME = ARGUMENTS[\"model_name\"]\n",
    "\n",
    "with open(\"/var/run/secrets/kubernetes.io/serviceaccount/namespace\") as f:\n",
    "    NAMESPACE = f.read()\n",
    "NAMESPACE"
   ]
  },
  {
   "cell_type": "markdown",
   "id": "intermediate-bedroom",
   "metadata": {},
   "source": [
    "## 1.) Let's start with creating a client object for interaction"
   ]
  },
  {
   "cell_type": "code",
   "execution_count": 258,
   "id": "republican-pantyhose",
   "metadata": {},
   "outputs": [],
   "source": [
    "client = kfp.Client()"
   ]
  },
  {
   "cell_type": "markdown",
   "id": "embedded-waste",
   "metadata": {},
   "source": [
    "## 2.) The main part consists of defining the end-to-end workflow functions and create components from them\n",
    "### 2.0) Load component catalog"
   ]
  },
  {
   "cell_type": "code",
   "execution_count": 281,
   "id": "a21cb0b9-ff7f-464d-9cd7-048c7d5b47c8",
   "metadata": {},
   "outputs": [
    {
     "name": "stdout",
     "output_type": "stream",
     "text": [
      "fatal: destination path '/home/jovyan/components' already exists and is not an empty directory.\n"
     ]
    }
   ],
   "source": [
    "!git clone --branch $COMPONENT_CATALOG_RELEASE $COMPONENT_CATALOG_GIT $COMPONENT_CATALOG_FOLDER"
   ]
  },
  {
   "cell_type": "markdown",
   "id": "c7d5e024-32a5-48d2-8281-adf08da1cb9c",
   "metadata": {},
   "source": [
    "### 2.1) Load dataset (by reusing a Kubeflow component)"
   ]
  },
  {
   "cell_type": "code",
   "execution_count": 260,
   "id": "handled-daily",
   "metadata": {},
   "outputs": [],
   "source": [
    "load_dataset_comp = kfp.components.load_component_from_file(\n",
    "    LOAD_DATASET_COMPONENT\n",
    ")"
   ]
  },
  {
   "cell_type": "markdown",
   "id": "c3da1297-7058-43ff-b761-f41c79a80b7c",
   "metadata": {},
   "source": [
    "### 2.2) Preprocess data (normalizing, one hot encoding, etc.)"
   ]
  },
  {
   "cell_type": "code",
   "execution_count": 261,
   "id": "9a14b3e9-2c78-465c-960d-6fd6a01d103d",
   "metadata": {},
   "outputs": [],
   "source": [
    "def preprocess_dataset(\n",
    "    dataset_dir: InputPath(str),\n",
    "    prep_dataset_dir: OutputPath(str),\n",
    "    test_size: float = 0.2,\n",
    "    seed: int = 42,\n",
    "    size: int = 224,\n",
    "    batch_size: int = 16\n",
    "):\n",
    "    \"\"\"Split data into train/dev/test data. Saves result into `prep_dataset_dir`.\"\"\"\n",
    "\n",
    "    from datasets import (\n",
    "        Array3D,\n",
    "        DatasetDict,\n",
    "        Features,\n",
    "        load_from_disk,\n",
    "        Sequence,\n",
    "        Value\n",
    "    )\n",
    "    import numpy as np\n",
    "    import os\n",
    "    from transformers import ImageFeatureExtractionMixin\n",
    "\n",
    "    print(f'Loading input dataset from {dataset_dir}...')\n",
    "    dataset = load_from_disk(dataset_dir)\n",
    "    print('Dataset loaded.')\n",
    "\n",
    "    # Preprocess\n",
    "    num_classes = dataset[\"train\"].features[\"label\"].num_classes\n",
    "    one_hot_matrix = np.eye(num_classes)\n",
    "    feature_extractor = ImageFeatureExtractionMixin()\n",
    "\n",
    "    def to_pixels(image):\n",
    "        image = feature_extractor.resize(image, size=size)\n",
    "        image = feature_extractor.to_numpy_array(image, channel_first=False)\n",
    "        image = image / 255.0\n",
    "        return image\n",
    "\n",
    "    def process(examples):\n",
    "        examples[\"pixel_values\"] = [\n",
    "            to_pixels(image) for image in examples[\"image\"]\n",
    "        ]\n",
    "        examples[\"label\"] = [\n",
    "            one_hot_matrix[label] for label in examples[\"label\"]\n",
    "        ]\n",
    "        return examples\n",
    "\n",
    "    features = Features({\n",
    "        \"pixel_values\": Array3D(dtype=\"float32\", shape=(size, size, 3)),\n",
    "        \"label\": Sequence(feature=Value(dtype=\"int32\"), length=num_classes)\n",
    "    })\n",
    "\n",
    "    print('Preprocessing dataset...')\n",
    "    prep_dataset = dataset.map(\n",
    "        process,\n",
    "        remove_columns=[\"image\"],\n",
    "        batched=True,\n",
    "        batch_size=batch_size,\n",
    "        num_proc=2,\n",
    "        features=features,\n",
    "        keep_in_memory=True\n",
    "    )\n",
    "\n",
    "    prep_dataset = prep_dataset.with_format(\"numpy\")\n",
    "\n",
    "    # Split\n",
    "    print('Splitting dataset...')\n",
    "    dev_test_dataset = prep_dataset['test'].train_test_split(\n",
    "        test_size=test_size,\n",
    "        shuffle=True,\n",
    "        seed=seed\n",
    "    )\n",
    "\n",
    "    train_dev_test_dataset = DatasetDict({\n",
    "        'train': prep_dataset['train'],\n",
    "        'dev': dev_test_dataset['train'],\n",
    "        'test': dev_test_dataset['test'],\n",
    "    })\n",
    "\n",
    "    print(f'Storing dataset to {prep_dataset_dir}...')\n",
    "    if not os.path.exists(prep_dataset_dir):\n",
    "        os.makedirs(prep_dataset_dir)\n",
    "    train_dev_test_dataset.save_to_disk(prep_dataset_dir)\n",
    "    print(f'Dataset with train/test/dev splits saved to {prep_dataset_dir}.')\n",
    "\n",
    "    print('Finished.')\n",
    "\n",
    "\n",
    "preprocess_dataset_comp = kfp.components.create_component_from_func(\n",
    "    func=preprocess_dataset,\n",
    "    base_image=BASE_IMAGE\n",
    ")"
   ]
  },
  {
   "cell_type": "markdown",
   "id": "linear-appraisal",
   "metadata": {},
   "source": [
    "### 2.3) Train the model"
   ]
  },
  {
   "cell_type": "code",
   "execution_count": 272,
   "id": "brilliant-content",
   "metadata": {},
   "outputs": [],
   "source": [
    "def train_model(\n",
    "    prep_dataset_dir: InputPath(str),\n",
    "    model_dir: OutputPath(str),\n",
    "    epochs: int = 100,\n",
    "    batch_size: int = 32\n",
    "):\n",
    "    \"\"\"Uses transfer learning on a prepared dataset. Once trained, the model is persisted to `model_dir`.\"\"\"\n",
    "\n",
    "    from datasets import load_from_disk\n",
    "    import datetime\n",
    "    import numpy as np\n",
    "    import os\n",
    "    import tensorflow as tf\n",
    "    from tensorflow.keras import Sequential\n",
    "    from tensorflow.keras.applications import InceptionV3\n",
    "    from tensorflow.keras.layers import (\n",
    "        BatchNormalization,\n",
    "        Dense,\n",
    "        Dropout,\n",
    "        GlobalAveragePooling2D\n",
    "    )\n",
    "    from tensorflow.keras.callbacks import (\n",
    "        EarlyStopping,\n",
    "        ModelCheckpoint,\n",
    "        ReduceLROnPlateau\n",
    "    )\n",
    "    from transformers import DefaultDataCollator\n",
    "\n",
    "    dataset = load_from_disk(prep_dataset_dir)\n",
    "\n",
    "    data_collator = DefaultDataCollator(return_tensors=\"tf\")\n",
    "\n",
    "    train_dataset = dataset[\"train\"].to_tf_dataset(\n",
    "        columns=['pixel_values'],\n",
    "        label_cols=['labels'],\n",
    "        shuffle=True,\n",
    "        batch_size=batch_size,\n",
    "        collate_fn=data_collator\n",
    "    )\n",
    "\n",
    "    validation_dataset = dataset[\"dev\"].to_tf_dataset(\n",
    "        columns=['pixel_values'],\n",
    "        label_cols=['labels'],\n",
    "        shuffle=False,\n",
    "        batch_size=batch_size,\n",
    "        collate_fn=data_collator\n",
    "    )\n",
    "\n",
    "    # see: https://github.com/huggingface/datasets/issues/4478\n",
    "    print(f'{datetime.datetime.now()} - Saving Data')\n",
    "    if not os.path.exists(model_dir):\n",
    "        os.makedirs(model_dir)\n",
    "        os.makedirs(model_dir+\"/train\")\n",
    "        os.makedirs(model_dir+\"/val\")\n",
    "    tf.data.experimental.save(train_dataset, model_dir+\"/train\")\n",
    "    tf.data.experimental.save(validation_dataset, model_dir+\"/val\")\n",
    "\n",
    "    print(f'{datetime.datetime.now()} - Loading Data')\n",
    "    train_dataset = tf.data.experimental.load(model_dir+\"/train\")\n",
    "    validation_dataset = tf.data.experimental.load(model_dir+\"/val\")\n",
    "\n",
    "    shape = np.shape(dataset[\"train\"][0][\"pixel_values\"])\n",
    "    backbone = InceptionV3(\n",
    "        include_top=False,\n",
    "        weights='imagenet',\n",
    "        input_shape=shape\n",
    "    )\n",
    "\n",
    "    for layer in backbone.layers:\n",
    "        layer.trainable = False\n",
    "\n",
    "    model = Sequential()\n",
    "    model.add(backbone)\n",
    "    model.add(GlobalAveragePooling2D())\n",
    "    model.add(Dense(128, activation='relu'))\n",
    "    model.add(BatchNormalization())\n",
    "    model.add(Dropout(0.3))\n",
    "    model.add(Dense(64, activation='relu'))\n",
    "    model.add(BatchNormalization())\n",
    "    model.add(Dropout(0.3))\n",
    "    model.add(Dense(10, activation='softmax'))\n",
    "\n",
    "    model.compile(\n",
    "        optimizer='adam',\n",
    "        loss='categorical_crossentropy',\n",
    "        metrics=['accuracy']\n",
    "    )\n",
    "\n",
    "    print(model.summary())\n",
    "\n",
    "    earlyStopping = EarlyStopping(\n",
    "        monitor='val_loss',\n",
    "        patience=20,\n",
    "        verbose=0,\n",
    "        mode='min'\n",
    "    )\n",
    "\n",
    "    mcp_save = ModelCheckpoint(\n",
    "        f'{model_dir}/best_model.hdf5',\n",
    "        save_best_only=True,\n",
    "        monitor='val_loss',\n",
    "        mode='min'\n",
    "    )\n",
    "\n",
    "    reduce_lr_loss = ReduceLROnPlateau(\n",
    "        monitor='val_loss',\n",
    "        factor=0.1,\n",
    "        patience=7,\n",
    "        verbose=1,\n",
    "        min_delta=0.0001,\n",
    "        mode='min'\n",
    "    )\n",
    "\n",
    "    hist = model.fit(\n",
    "        train_dataset,\n",
    "        epochs=epochs,\n",
    "        validation_data=validation_dataset,\n",
    "        callbacks=[earlyStopping, mcp_save, reduce_lr_loss]\n",
    "    )\n",
    "\n",
    "    print(\"Model train history:\")\n",
    "    print(hist.history)\n",
    "\n",
    "    if not os.path.exists(model_dir):\n",
    "        os.makedirs(model_dir)\n",
    "    model.save(model_dir)\n",
    "    print(f\"Model saved to: {model_dir}\")\n",
    "    print('Finished.')\n",
    "\n",
    "\n",
    "train_specification = kfp.components.func_to_component_text(\n",
    "    func=train_model\n",
    ")"
   ]
  },
  {
   "cell_type": "code",
   "execution_count": 273,
   "id": "753fda4f-e2c6-4c5d-9085-e9f565e72df6",
   "metadata": {},
   "outputs": [],
   "source": [
    "train_model_comp = kfp.components.load_component_from_file(\n",
    "    TRAIN_MODEL_COMPONENT\n",
    ")"
   ]
  },
  {
   "cell_type": "markdown",
   "id": "alone-logistics",
   "metadata": {},
   "source": [
    "### 2.4) Evaluate model with validation data"
   ]
  },
  {
   "cell_type": "code",
   "execution_count": 274,
   "id": "owned-background",
   "metadata": {},
   "outputs": [],
   "source": [
    "def evaluate_model(\n",
    "    prep_dataset_dir: InputPath(str),\n",
    "    model_dir: InputPath(str),\n",
    "    batch_size: int = 20\n",
    ") -> NamedTuple(\n",
    "        \"EvaluationOutput\", [\n",
    "            (\"mlpipeline_metrics\", \"Metrics\")\n",
    "        ]):\n",
    "    \"\"\"Loads a saved model from file and uses a pre-downloaded dataset for evaluation.\n",
    "    Model metrics are persisted to `/mlpipeline-metrics.json` for Kubeflow Pipelines\n",
    "    metadata.\"\"\"\n",
    "\n",
    "    from collections import namedtuple\n",
    "    from datasets import load_from_disk\n",
    "    import json\n",
    "    import tensorflow as tf\n",
    "    from transformers import DefaultDataCollator\n",
    "\n",
    "    dataset = load_from_disk(prep_dataset_dir)\n",
    "\n",
    "    data_collator = DefaultDataCollator(return_tensors=\"tf\")\n",
    "\n",
    "    test_dataset = dataset[\"test\"].to_tf_dataset(\n",
    "        columns=['pixel_values', 'image'],\n",
    "        label_cols=['labels'],\n",
    "        shuffle=False,\n",
    "        batch_size=batch_size,\n",
    "        collate_fn=data_collator\n",
    "    )\n",
    "\n",
    "    # see: https://github.com/huggingface/datasets/issues/4478\n",
    "    tf.data.experimental.save(test_dataset, \"./test\")\n",
    "    test_dataset = tf.data.experimental.load(\"./test\")\n",
    "\n",
    "    model = tf.keras.models.load_model(model_dir)\n",
    "    (loss, accuracy) = model.evaluate(test_dataset)\n",
    "\n",
    "    print((loss, accuracy))\n",
    "\n",
    "    metrics = {\n",
    "        \"metrics\": [\n",
    "            {\n",
    "                \"name\": \"loss\",\n",
    "                \"numberValue\": str(loss),\n",
    "                \"format\": \"PERCENTAGE\"\n",
    "            },\n",
    "            {\n",
    "                \"name\": \"accuracy\",\n",
    "                \"numberValue\": str(accuracy),\n",
    "                \"format\": \"PERCENTAGE\"},\n",
    "        ]\n",
    "    }\n",
    "\n",
    "    out_tuple = namedtuple(\"EvaluationOutput\", [\"mlpipeline_metrics\"])\n",
    "\n",
    "    return out_tuple(json.dumps(metrics))\n",
    "\n",
    "\n",
    "evaluate_model_comp = kfp.components.create_component_from_func(\n",
    "    func=evaluate_model,\n",
    "    base_image=BASE_IMAGE\n",
    ")"
   ]
  },
  {
   "cell_type": "markdown",
   "id": "b974913f-6ea7-4c53-832c-8ac7b729f27f",
   "metadata": {},
   "source": [
    "### 2.5) Create confusion matrix (by reusing a Kubeflow component)"
   ]
  },
  {
   "cell_type": "code",
   "execution_count": 275,
   "id": "059ceb98-f8d9-4da1-9e9d-c870d9f85bc1",
   "metadata": {},
   "outputs": [],
   "source": [
    "plot_confusion_matrix_comp = kfp.components.load_component_from_file(\n",
    "    PLOT_CONFUSION_MATRIX_COMPONENT\n",
    ")"
   ]
  },
  {
   "cell_type": "markdown",
   "id": "34537fe7-7b4e-4abf-bf7b-f8ac3e0463ba",
   "metadata": {},
   "source": [
    "### 2.6) Convert model to ONNX (by reusing a Kubeflow component)"
   ]
  },
  {
   "cell_type": "code",
   "execution_count": 276,
   "id": "840fecc8-afb1-46e6-ba35-547f0ede9d5d",
   "metadata": {
    "tags": []
   },
   "outputs": [],
   "source": [
    "convert_model_to_onnx_comp = kfp.components.load_component_from_file(\n",
    "    CONVERT_MODEL_TO_ONNX_COMPONENT\n",
    ")"
   ]
  },
  {
   "cell_type": "markdown",
   "id": "short-commonwealth",
   "metadata": {},
   "source": [
    "### 2.7) Upload model to MinIO artifact store (by reusing a Kubeflow component)"
   ]
  },
  {
   "cell_type": "code",
   "execution_count": 277,
   "id": "direct-norwegian",
   "metadata": {},
   "outputs": [],
   "source": [
    "upload_model_comp = kfp.components.load_component_from_file(\n",
    "    UPLOAD_MODEL_COMPONENT\n",
    ")"
   ]
  },
  {
   "cell_type": "markdown",
   "id": "35ac44c3-407a-4aa4-938f-9ac06713f745",
   "metadata": {
    "tags": []
   },
   "source": [
    "### 2.8) Deploy the model using KServe (by reusing a Kubeflow component)"
   ]
  },
  {
   "cell_type": "code",
   "execution_count": 278,
   "id": "9e8e4c32-b78c-4f70-aa26-61ccee18f8de",
   "metadata": {},
   "outputs": [],
   "source": [
    "deploy_model_with_kserve_comp = kfp.components.load_component_from_file(\n",
    "    DEPLOY_MODEL_WITH_KSERVE_COMPONENT\n",
    ")"
   ]
  },
  {
   "cell_type": "markdown",
   "id": "nutritional-suicide",
   "metadata": {},
   "source": [
    "## 3.) Create the actual pipeline by combining the components"
   ]
  },
  {
   "cell_type": "code",
   "execution_count": 279,
   "id": "material-morning",
   "metadata": {},
   "outputs": [],
   "source": [
    "@dsl.pipeline(\n",
    "  name='End-to-end monkey species classification pipeline',\n",
    "  description='An example pipeline that performs an image classification and determines different monkey species'\n",
    ")\n",
    "def monkey_pipeline(\n",
    "            blackboard: str,\n",
    "            dataset_url: str,\n",
    "            dataset_configuration: str,\n",
    "            dataset_label_column: str,\n",
    "            model_name: str,\n",
    "            minio_url: str,\n",
    "            minio_user: str,\n",
    "            minio_pass: str):\n",
    "    create_blackboard = dsl.VolumeOp(\n",
    "        name='Create Artefacts Blackboard',\n",
    "        resource_name=blackboard,\n",
    "        modes=dsl.VOLUME_MODE_RWO,\n",
    "        size=\"4Gi\",\n",
    "        set_owner_reference=True\n",
    "    )\n",
    "    \n",
    "    create_training_volume = dsl.VolumeOp(\n",
    "        name='Create Training Volume',\n",
    "        resource_name=\"training-volume\",\n",
    "        modes=dsl.VOLUME_MODE_RWM,\n",
    "        size=\"4Gi\",\n",
    "        set_owner_reference=True\n",
    "    )\n",
    "\n",
    "    load_dataset_task = load_dataset_comp(\n",
    "        path=dataset_url,\n",
    "        configuration=dataset_configuration,\n",
    "        label_column=dataset_label_column\n",
    "    )\n",
    "    load_dataset_task.after(create_blackboard)\n",
    "\n",
    "    preprocess_dataset_task = preprocess_dataset_comp(\n",
    "        dataset_dir=load_dataset_task.outputs['dataset_dir']\n",
    "    )\n",
    "\n",
    "    # InputPath and OutputPath like \"prep_dataset_dir\" & \"model_dir\":\n",
    "    # Use name of parameters of train component on right-hand side.\n",
    "    train_parameters = {\n",
    "        \"prep_dataset_dir\": \"dataset_directory\",\n",
    "        \"model_dir\": \"model_dir\",\n",
    "    }\n",
    "\n",
    "    train_mount = \"/train\"\n",
    "    train_model_task = train_model_comp(\n",
    "        preprocess_dataset_task.outputs['prep_dataset_dir'],\n",
    "        train_specification,\n",
    "        train_parameters,\n",
    "        train_mount,\n",
    "        model_name=model_name,\n",
    "        pvc_name=create_training_volume.volume.persistent_volume_claim.claim_name,\n",
    "        gpus=1,\n",
    "        node_selector='nvidia.com/gpu.product: \"Tesla-V100-SXM2-32GB\"',\n",
    "    ).add_pvolumes({train_mount: create_training_volume.volume})\n",
    "\n",
    "    evaluate_model_comp(\n",
    "        preprocess_dataset_task.outputs['prep_dataset_dir'],\n",
    "        train_model_task.outputs['model_dir']\n",
    "    )\n",
    "\n",
    "    plot_confusion_matrix_comp(\n",
    "        \"pixel_values\",\n",
    "        \"labels\",\n",
    "        preprocess_dataset_task.outputs['prep_dataset_dir'],\n",
    "        train_model_task.outputs['model_dir'],\n",
    "        load_dataset_task.outputs['labels']\n",
    "    )\n",
    "\n",
    "    convert_model_to_onnx_task = convert_model_to_onnx_comp(\n",
    "        train_model_task.outputs['model_dir']\n",
    "    )\n",
    "\n",
    "    upload_model_task = upload_model_comp(\n",
    "        convert_model_to_onnx_task.outputs['onnx_model_dir'],\n",
    "        minio_url,\n",
    "        minio_user,\n",
    "        minio_pass,\n",
    "        model_name=model_name\n",
    "    )\n",
    "\n",
    "    deploy_model_with_kserve_task = deploy_model_with_kserve_comp(\n",
    "        model_name=model_name\n",
    "    )\n",
    "\n",
    "    deploy_model_with_kserve_task.after(upload_model_task)"
   ]
  },
  {
   "cell_type": "markdown",
   "id": "e8a3bec0-144a-49d4-9c92-af5b84442231",
   "metadata": {},
   "source": [
    "## 4.) Run the pipeline within an experiment\n",
    "Create a pipeline run, using the client you initialized in a prior step."
   ]
  },
  {
   "cell_type": "code",
   "execution_count": 280,
   "id": "8a2cf14a-9d24-4919-ab2c-f93f99b5340d",
   "metadata": {},
   "outputs": [
    {
     "data": {
      "text/html": [
       "<a href=\"/pipeline/#/experiments/details/ca9d4882-4304-416f-8736-3e53fb4babbc\" target=\"_blank\" >Experiment details</a>."
      ],
      "text/plain": [
       "<IPython.core.display.HTML object>"
      ]
     },
     "metadata": {},
     "output_type": "display_data"
    },
    {
     "data": {
      "text/html": [
       "<a href=\"/pipeline/#/runs/details/d07e073d-f306-48a9-99bb-e40e11ddba31\" target=\"_blank\" >Run details</a>."
      ],
      "text/plain": [
       "<IPython.core.display.HTML object>"
      ]
     },
     "metadata": {},
     "output_type": "display_data"
    },
    {
     "data": {
      "text/plain": [
       "RunPipelineResult(run_id=d07e073d-f306-48a9-99bb-e40e11ddba31)"
      ]
     },
     "execution_count": 280,
     "metadata": {},
     "output_type": "execute_result"
    }
   ],
   "source": [
    "pipeline_conf = PipelineConf()\n",
    "pipeline_conf.data_passing_method = data_passing_methods.KubernetesVolume(\n",
    "    volume=V1Volume(\n",
    "        name=ARGUMENTS[\"blackboard\"],\n",
    "        persistent_volume_claim=V1PersistentVolumeClaimVolumeSource(\n",
    "            \"{{workflow.name}}-%s\" % ARGUMENTS[\"blackboard\"]\n",
    "        ),\n",
    "    ),\n",
    "    path_prefix=f'{ARGUMENTS[\"blackboard\"]}/',\n",
    ")\n",
    "\n",
    "client.create_run_from_pipeline_func(\n",
    "    monkey_pipeline,\n",
    "    arguments=ARGUMENTS,\n",
    "    namespace=NAMESPACE,\n",
    "    pipeline_conf=pipeline_conf\n",
    ")"
   ]
  },
  {
   "cell_type": "markdown",
   "id": "dramatic-dayton",
   "metadata": {},
   "source": [
    "## 5.) Test model deployment\n",
    "See API documentation: https://github.com/kserve/kserve/blob/master/docs/predict-api/v2/required_api.md\n",
    "\n",
    "### 5.1) Check model endpoint availability"
   ]
  },
  {
   "cell_type": "code",
   "execution_count": 131,
   "id": "bf7df43a-b070-439c-af9a-a2f9a9017ec5",
   "metadata": {},
   "outputs": [
    {
     "data": {
      "text/plain": [
       "{'name': 'monkey-classification',\n",
       " 'versions': ['1'],\n",
       " 'platform': 'onnxruntime_onnx',\n",
       " 'inputs': [{'name': 'inception_v3_input',\n",
       "   'datatype': 'FP32',\n",
       "   'shape': [-1, 224, 224, 3]}],\n",
       " 'outputs': [{'name': 'dense_2', 'datatype': 'FP32', 'shape': [-1, 10]}]}"
      ]
     },
     "execution_count": 131,
     "metadata": {},
     "output_type": "execute_result"
    }
   ],
   "source": [
    "HOST = f'{MODEL_NAME}-predictor-default.{NAMESPACE}'\n",
    "HEADERS = {'Host': HOST}\n",
    "MODEL_ENDPOINT = f'http://{MODEL_NAME}-predictor-default/v2/models/{MODEL_NAME}'\n",
    "\n",
    "res = requests.get(MODEL_ENDPOINT, headers=HEADERS)\n",
    "response = json.loads(res.text)\n",
    "response"
   ]
  },
  {
   "cell_type": "markdown",
   "id": "742a447c-de11-4938-976e-f272e7bdeed8",
   "metadata": {},
   "source": [
    "Note you can also do this:\n",
    "```curl -H \"Host: $HOST\" $MODEL_ENDPOINT```"
   ]
  },
  {
   "cell_type": "markdown",
   "id": "ba3c55f8-8b15-4f8b-8e54-4b773dd18779",
   "metadata": {},
   "source": [
    "### 5.2) Get test image"
   ]
  },
  {
   "cell_type": "code",
   "execution_count": 30,
   "id": "conscious-gates",
   "metadata": {},
   "outputs": [],
   "source": [
    "IMAGE = \"Monkey.jpg\"\n",
    "#IMAGE_URL = \"https://upload.wikimedia.org/wikipedia/commons/0/00/Uakari_male.jpg\" #Uakari\n",
    "IMAGE_URL = \"https://upload.wikimedia.org/wikipedia/commons/thumb/8/80/Panamanian_Male_Adult_Howler_Monkey.jpg/2560px-Panamanian_Male_Adult_Howler_Monkey.jpg\" # Howler\n",
    "#IMAGE_URL = \"https://upload.wikimedia.org/wikipedia/commons/c/c6/Patas_Monkey.jpg\" # Patas\n",
    "MONKEYS = np.array([\"Mantled howler (Alouatta palliata)\",\n",
    "                    \"Patas monkey (Erythrocebus patas)\",\n",
    "                    \"Bald uakari (Cacajao calvus)\",\n",
    "                    \"Japanese macaque (Macaca fuscata)\",\n",
    "                    \"Pygmy marmoset (Cebuella pygmaea)\",\n",
    "                    \"Colombian white-faced capuchin (Cebus capucinus)\",\n",
    "                    \"Silvery marmoset (Mico argentatus)\",\n",
    "                    \"Common squirrel monkey (Saimiri sciureus)\",\n",
    "                    \"Black headed night monkey (Aotus nigriceps)\",\n",
    "                    \"Nilgiri langur (Trachypithecus johnii)\"]) # Note: last monkey after sorting"
   ]
  },
  {
   "cell_type": "code",
   "execution_count": 31,
   "id": "e07acf81-d510-4965-b03e-18830415e3e7",
   "metadata": {},
   "outputs": [
    {
     "name": "stdout",
     "output_type": "stream",
     "text": [
      "--2022-06-09 20:55:40--  https://upload.wikimedia.org/wikipedia/commons/thumb/8/80/Panamanian_Male_Adult_Howler_Monkey.jpg/2560px-Panamanian_Male_Adult_Howler_Monkey.jpg\n",
      "Resolving upload.wikimedia.org (upload.wikimedia.org)... 208.80.154.240, 2620:0:861:ed1a::2:b\n",
      "Connecting to upload.wikimedia.org (upload.wikimedia.org)|208.80.154.240|:443... connected.\n",
      "HTTP request sent, awaiting response... 200 OK\n",
      "Length: 923915 (902K) [image/jpeg]\n",
      "Saving to: ‘Monkey.jpg’\n",
      "\n",
      "Monkey.jpg          100%[===================>] 902.26K  4.95MB/s    in 0.2s    \n",
      "\n",
      "2022-06-09 20:55:40 (4.95 MB/s) - ‘Monkey.jpg’ saved [923915/923915]\n",
      "\n"
     ]
    }
   ],
   "source": [
    "!wget $IMAGE_URL -O $IMAGE"
   ]
  },
  {
   "cell_type": "code",
   "execution_count": 32,
   "id": "7fe5e4d4-0aff-4933-b102-68b03491a8af",
   "metadata": {},
   "outputs": [
    {
     "data": {
      "image/png": "[encoded data removed]",
      "text/plain": [
       "<Figure size 432x288 with 1 Axes>"
      ]
     },
     "metadata": {
      "needs_background": "light"
     },
     "output_type": "display_data"
    }
   ],
   "source": [
    "image = mpimg.imread(IMAGE)\n",
    "image_plot = plt.imshow(image)"
   ]
  },
  {
   "cell_type": "markdown",
   "id": "c0c73903-06c3-4c8c-a339-5c37c3c4553d",
   "metadata": {},
   "source": [
    "### 5.3) Predict monkey kind of test image"
   ]
  },
  {
   "cell_type": "code",
   "execution_count": 33,
   "id": "4f03f70c-8892-41c3-b3c0-38155bde2405",
   "metadata": {},
   "outputs": [
    {
     "data": {
      "text/plain": [
       "{'model_name': 'monkey-classification',\n",
       " 'model_version': '1',\n",
       " 'outputs': [{'name': 'dense_2',\n",
       "   'datatype': 'FP32',\n",
       "   'shape': [1, 10],\n",
       "   'data': [0.9849440455436707,\n",
       "    4.0273986087413505e-05,\n",
       "    0.011197958141565323,\n",
       "    0.0025272159837186337,\n",
       "    5.832055467180908e-05,\n",
       "    0.00015985753270797431,\n",
       "    0.0005517776007764041,\n",
       "    4.833210550714284e-05,\n",
       "    3.758039019885473e-05,\n",
       "    0.00043450677185319364]}]}"
      ]
     },
     "execution_count": 33,
     "metadata": {},
     "output_type": "execute_result"
    }
   ],
   "source": [
    "PREDICT_ENDPOINT = MODEL_ENDPOINT + \"/infer\"\n",
    "\n",
    "test_image = cv2.resize(cv2.imread(IMAGE), dsize=(224, 224)) / 255.0\n",
    "\n",
    "payload = {\n",
    "  \"inputs\": [{\n",
    "      \"name\": \"inception_v3_input\",\n",
    "      \"shape\": [1, 224, 224, 3],\n",
    "      \"datatype\": \"FP32\",\n",
    "      \"data\": test_image.tolist()\n",
    "    }\n",
    "  ]\n",
    "}\n",
    "\n",
    "res = requests.post(PREDICT_ENDPOINT, headers=HEADERS, data=json.dumps(payload))\n",
    "response = json.loads(res.text)\n",
    "response"
   ]
  },
  {
   "cell_type": "markdown",
   "id": "2a219d72-83de-42ef-89a8-ae78fb6a6877",
   "metadata": {},
   "source": [
    "Note you can also do this:\n",
    "```curl -s -X POST -H \"Host: $HOST\" -d @$JSON_FILE $PREDICT_ENDPOINT```"
   ]
  },
  {
   "cell_type": "code",
   "execution_count": 34,
   "id": "df2c9fcb-3d5c-40ba-945f-7af6ec58278a",
   "metadata": {},
   "outputs": [
    {
     "name": "stdout",
     "output_type": "stream",
     "text": [
      "Looks like a Mantled howler (Alouatta palliata)\n"
     ]
    }
   ],
   "source": [
    "print(\"Looks like a \" + MONKEYS[np.argmax(response['outputs'][0]['data'])])"
   ]
  },
  {
   "cell_type": "code",
   "execution_count": null,
   "id": "a1f31c43-9cf1-49d0-9cd8-452f9877c570",
   "metadata": {},
   "outputs": [],
   "source": []
  }
 ],
 "metadata": {
  "kernelspec": {
   "display_name": "Python 3.9.13 64-bit",
   "language": "python",
   "name": "python3"
  },
  "language_info": {
   "codemirror_mode": {
    "name": "ipython",
    "version": 3
   },
   "file_extension": ".py",
   "mimetype": "text/x-python",
   "name": "python",
   "nbconvert_exporter": "python",
   "pygments_lexer": "ipython3",
   "version": "3.9.13"
  },
  "vscode": {
   "interpreter": {
    "hash": "b0fa6594d8f4cbf19f97940f81e996739fb7646882a419484c72d19e05852a7e"
   }
  }
 },
 "nbformat": 4,
 "nbformat_minor": 5
}
