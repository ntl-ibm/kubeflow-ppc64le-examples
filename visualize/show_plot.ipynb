{
 "cells": [
  {
   "cell_type": "code",
   "execution_count": 37,
   "id": "b1d755db-fc67-4526-bb0d-858719e053e6",
   "metadata": {},
   "outputs": [],
   "source": [
    "%load_ext lab_black"
   ]
  },
  {
   "cell_type": "code",
   "execution_count": 40,
   "id": "7206739c-11a4-4ee5-a390-d27ba877d01d",
   "metadata": {},
   "outputs": [],
   "source": [
    "import kfp"
   ]
  },
  {
   "cell_type": "code",
   "execution_count": 41,
   "id": "c56a5dfb-4589-491d-99a2-7a67543cea9c",
   "metadata": {},
   "outputs": [],
   "source": [
    "BASE_IMAGE = \"quay.io/ibm/kubeflow-notebook-image-ppc64le:elyra3.11.1-py3.8-tf2.8.1-v0\""
   ]
  },
  {
   "cell_type": "code",
   "execution_count": 53,
   "id": "0b314201-35f1-4f25-9025-2aa7618b4592",
   "metadata": {},
   "outputs": [],
   "source": [
    "def visualize_plot(mlpipeline_ui_metadata_path: kfp.components.OutputPath(str)):\n",
    "    import base64\n",
    "    import json\n",
    "\n",
    "    import matplotlib.pyplot as plt\n",
    "    import numpy as np\n",
    "    import random\n",
    "\n",
    "    # Create a scatter plot around a regression line\n",
    "    x = np.arange(100)\n",
    "    delta = np.random.uniform(-5, 5, size=(len(x),))\n",
    "    m = random.randint(1, 10) / 10\n",
    "    y = random.randint(0, 5)\n",
    "    y = m * x + y + delta\n",
    "\n",
    "    # slove regression\n",
    "    m, b = np.polyfit(x, y, 1)\n",
    "\n",
    "    # draw plot and save\n",
    "    plt.plot(x, y, \"o\")\n",
    "    plt.plot(x, m * x + b)\n",
    "    plt.savefig(\"regression.png\")\n",
    "\n",
    "    # create the visualization\n",
    "    # https://www.kubeflow.org/docs/components/pipelines/v1/sdk/output-viewer/#v1-sdk-writing-out-metadata-for-the-output-viewers\n",
    "    with open(\"regression.png\", \"rb\") as f:\n",
    "        jpg = base64.b64encode(f.read())\n",
    "\n",
    "    html = f'<img src=\"data:image/jpg;base64,{jpg.decode(\"utf-8\")}\"/>'\n",
    "    metadata = {\"outputs\": [{\"type\": \"markdown\", \"storage\": \"inline\", \"source\": html}]}\n",
    "\n",
    "    with open(mlpipeline_ui_metadata_path, \"w\") as metadata_file:\n",
    "        json.dump(metadata, metadata_file)\n",
    "\n",
    "\n",
    "visualize_plot_comp = kfp.components.create_component_from_func(\n",
    "    func=visualize_plot, base_image=BASE_IMAGE\n",
    ")"
   ]
  },
  {
   "cell_type": "code",
   "execution_count": 54,
   "id": "6e07ea5f-7101-49cb-8fec-af848274aab2",
   "metadata": {},
   "outputs": [
    {
     "data": {
      "text/html": [
       "<a href=\"/pipeline/#/experiments/details/8ca7e1ff-8386-4307-85ce-ec2a05d1123e\" target=\"_blank\" >Experiment details</a>."
      ],
      "text/plain": [
       "<IPython.core.display.HTML object>"
      ]
     },
     "metadata": {},
     "output_type": "display_data"
    },
    {
     "data": {
      "text/html": [
       "<a href=\"/pipeline/#/runs/details/3559bf18-0eaa-4959-8541-9773ffb41739\" target=\"_blank\" >Run details</a>."
      ],
      "text/plain": [
       "<IPython.core.display.HTML object>"
      ]
     },
     "metadata": {},
     "output_type": "display_data"
    }
   ],
   "source": [
    "@kfp.dsl.pipeline(name=\"Example pipeline with plot\")\n",
    "def pipeline():\n",
    "    task = visualize_plot_comp()\n",
    "\n",
    "\n",
    "run_info = kfp.Client().create_run_from_pipeline_func(pipeline, arguments={})"
   ]
  },
  {
   "cell_type": "code",
   "execution_count": null,
   "id": "88637314-004d-4f55-8732-8ed7cff98f0e",
   "metadata": {},
   "outputs": [],
   "source": []
  }
 ],
 "metadata": {
  "kernelspec": {
   "display_name": "Python 3 (ipykernel)",
   "language": "python",
   "name": "python3"
  },
  "language_info": {
   "codemirror_mode": {
    "name": "ipython",
    "version": 3
   },
   "file_extension": ".py",
   "mimetype": "text/x-python",
   "name": "python",
   "nbconvert_exporter": "python",
   "pygments_lexer": "ipython3",
   "version": "3.9.16"
  }
 },
 "nbformat": 4,
 "nbformat_minor": 5
}
