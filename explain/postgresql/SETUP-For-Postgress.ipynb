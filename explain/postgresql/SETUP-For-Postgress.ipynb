{
 "cells": [
  {
   "cell_type": "code",
   "execution_count": 62,
   "id": "0e0dc445-cfe0-450c-a265-01b624e38af9",
   "metadata": {},
   "outputs": [
    {
     "name": "stdout",
     "output_type": "stream",
     "text": [
      "The lab_black extension is already loaded. To reload it, use:\n",
      "  %reload_ext lab_black\n"
     ]
    }
   ],
   "source": [
    "%load_ext lab_black"
   ]
  },
  {
   "cell_type": "code",
   "execution_count": 63,
   "id": "ed409e1c-fd43-48ad-8ae5-238e0c7c65a3",
   "metadata": {},
   "outputs": [],
   "source": [
    "from typing import List, Dict, Any, Union"
   ]
  },
  {
   "cell_type": "code",
   "execution_count": 64,
   "id": "9d5f9c08-0a8f-43b5-8a25-fe1d3e1dda2c",
   "metadata": {},
   "outputs": [],
   "source": [
    "import base64\n",
    "from kubernetes import client, config, utils\n",
    "import yaml\n",
    "from http import HTTPStatus\n",
    "\n",
    "config.load_incluster_config()\n",
    "\n",
    "with open(\"/var/run/secrets/kubernetes.io/serviceaccount/namespace\", \"r\") as f:\n",
    "    NAMESPACE = f.read()\n",
    "\n",
    "core_v1_api = client.CoreV1Api()"
   ]
  },
  {
   "cell_type": "code",
   "execution_count": 65,
   "id": "6abedfd4-d0b7-4f28-b21a-772e4df07e01",
   "metadata": {},
   "outputs": [],
   "source": [
    "PG_NAMESPACE = f\"{NAMESPACE}\""
   ]
  },
  {
   "cell_type": "code",
   "execution_count": 66,
   "id": "8a0668e9-7933-40c6-a25c-1f3501fbbaf4",
   "metadata": {},
   "outputs": [
    {
     "name": "stdout",
     "output_type": "stream",
     "text": [
      "Requirement already satisfied: psycopg[binary,pool] in /opt/conda/lib/python3.9/site-packages (3.1.13)\n",
      "Requirement already satisfied: typing-extensions>=4.1 in /opt/conda/lib/python3.9/site-packages (from psycopg[binary,pool]) (4.4.0)\n",
      "Requirement already satisfied: psycopg-pool in /opt/conda/lib/python3.9/site-packages (from psycopg[binary,pool]) (3.2.0)\n",
      "Requirement already satisfied: psycopg-binary==3.1.13 in /opt/conda/lib/python3.9/site-packages (from psycopg[binary,pool]) (3.1.13)\n"
     ]
    }
   ],
   "source": [
    "!pip install psycopg[binary,pool]"
   ]
  },
  {
   "cell_type": "code",
   "execution_count": 67,
   "id": "3f8fba4b-108d-445a-b97d-41ba0fcb3b87",
   "metadata": {},
   "outputs": [],
   "source": [
    "import psycopg\n",
    "from psycopg import sql"
   ]
  },
  {
   "cell_type": "markdown",
   "id": "9a1765c3-0575-47e3-8bd2-c2e2128f1bd3",
   "metadata": {},
   "source": [
    "# Gather dataset column names and levels into configmap"
   ]
  },
  {
   "cell_type": "code",
   "execution_count": 68,
   "id": "da61ba30-66f7-415f-b40f-79781c60c5ea",
   "metadata": {
    "tags": []
   },
   "outputs": [
    {
     "data": {
      "text/plain": [
       "{'columns': ['CheckingStatus',\n",
       "  'LoanDuration',\n",
       "  'CreditHistory',\n",
       "  'LoanPurpose',\n",
       "  'LoanAmount',\n",
       "  'ExistingSavings',\n",
       "  'EmploymentDuration',\n",
       "  'InstallmentPercent',\n",
       "  'Sex',\n",
       "  'OthersOnLoan',\n",
       "  'CurrentResidenceDuration',\n",
       "  'OwnsProperty',\n",
       "  'Age',\n",
       "  'InstallmentPlans',\n",
       "  'Housing',\n",
       "  'ExistingCreditsCount',\n",
       "  'Job',\n",
       "  'Dependents',\n",
       "  'Telephone',\n",
       "  'ForeignWorker',\n",
       "  'Risk'],\n",
       " 'label_columns': {'CheckingStatus': ['0_to_200',\n",
       "   'greater_200',\n",
       "   'less_0',\n",
       "   'no_checking'],\n",
       "  'CreditHistory': ['all_credits_paid_back',\n",
       "   'credits_paid_to_date',\n",
       "   'no_credits',\n",
       "   'outstanding_credit',\n",
       "   'prior_payments_delayed'],\n",
       "  'LoanPurpose': ['appliances',\n",
       "   'business',\n",
       "   'car_new',\n",
       "   'car_used',\n",
       "   'education',\n",
       "   'furniture',\n",
       "   'other',\n",
       "   'radio_tv',\n",
       "   'repairs',\n",
       "   'retraining',\n",
       "   'vacation'],\n",
       "  'ExistingSavings': ['100_to_500',\n",
       "   '500_to_1000',\n",
       "   'greater_1000',\n",
       "   'less_100',\n",
       "   'unknown'],\n",
       "  'EmploymentDuration': ['1_to_4',\n",
       "   '4_to_7',\n",
       "   'greater_7',\n",
       "   'less_1',\n",
       "   'unemployed'],\n",
       "  'Sex': ['female', 'male'],\n",
       "  'OthersOnLoan': ['co-applicant', 'guarantor', 'none'],\n",
       "  'OwnsProperty': ['car_other', 'real_estate', 'savings_insurance', 'unknown'],\n",
       "  'InstallmentPlans': ['bank', 'none', 'stores'],\n",
       "  'Housing': ['free', 'own', 'rent'],\n",
       "  'Job': ['management_self-employed', 'skilled', 'unemployed', 'unskilled'],\n",
       "  'Telephone': ['none', 'yes'],\n",
       "  'ForeignWorker': ['no', 'yes'],\n",
       "  'Risk': ['No Risk', 'Risk']},\n",
       " 'int_columns': ['LoanDuration',\n",
       "  'LoanAmount',\n",
       "  'InstallmentPercent',\n",
       "  'CurrentResidenceDuration',\n",
       "  'Age',\n",
       "  'ExistingCreditsCount',\n",
       "  'Dependents']}"
      ]
     },
     "execution_count": 68,
     "metadata": {},
     "output_type": "execute_result"
    }
   ],
   "source": [
    "import pandas as pd\n",
    "import numpy as np\n",
    "import json\n",
    "\n",
    "df = pd.read_csv(\"./german_credit_data_biased_training.csv\")\n",
    "\n",
    "for col in df.columns:\n",
    "    if df[col].dtype == np.dtype(\"O\"):\n",
    "        df[col] = df[col].astype(\"category\")\n",
    "\n",
    "column_map: Dict[str, Any] = {}\n",
    "column_map[\"columns\"] = list(df.columns)\n",
    "\n",
    "column_map[\"label_columns\"] = {\n",
    "    col: list(df[col].dtype.categories)\n",
    "    for col in column_map[\"columns\"]\n",
    "    if type(df[col].dtype) == pd.core.dtypes.dtypes.CategoricalDtype\n",
    "}\n",
    "column_map[\"int_columns\"] = [\n",
    "    col for col in column_map[\"columns\"] if df[col].dtype == np.dtype(\"int64\")\n",
    "]\n",
    "\n",
    "column_map"
   ]
  },
  {
   "cell_type": "code",
   "execution_count": 69,
   "id": "b3bb5207-8108-46ef-be8e-77f556625179",
   "metadata": {},
   "outputs": [],
   "source": [
    "COLUMNS_CONFIG_MAP_NAME = \"credit-risk-columns\"\n",
    "cm = client.V1ConfigMap(\n",
    "    metadata=client.V1ObjectMeta(name=COLUMNS_CONFIG_MAP_NAME, namespace=NAMESPACE),\n",
    "    data={\"columns\": json.dumps(column_map, indent=2)},\n",
    ")\n",
    "\n",
    "try:\n",
    "    core_v1_api.create_namespaced_config_map(namespace=NAMESPACE, body=cm)\n",
    "except client.ApiException as e:\n",
    "    if e.status == HTTPStatus.CONFLICT:\n",
    "        core_v1_api.patch_namespaced_config_map(\n",
    "            namespace=NAMESPACE, name=COLUMNS_CONFIG_MAP_NAME, body=cm\n",
    "        )\n",
    "    else:\n",
    "        raise"
   ]
  },
  {
   "cell_type": "markdown",
   "id": "44bcfba7-c72d-48f3-a47d-ca032b4130b9",
   "metadata": {},
   "source": [
    "# Split data into test and train datasets"
   ]
  },
  {
   "cell_type": "code",
   "execution_count": 70,
   "id": "d1113880-4003-4d80-854a-e04eb7a78b8a",
   "metadata": {},
   "outputs": [],
   "source": [
    "from sklearn.model_selection import train_test_split\n",
    "\n",
    "train, test = train_test_split(df, train_size=0.8, random_state=42, shuffle=True)"
   ]
  },
  {
   "cell_type": "markdown",
   "id": "2fc73b2f-1067-47dc-9273-28489a581347",
   "metadata": {},
   "source": [
    "# PostgreSQL"
   ]
  },
  {
   "cell_type": "code",
   "execution_count": 71,
   "id": "b0c3e034-a2ee-4264-8432-5be62a08c66a",
   "metadata": {},
   "outputs": [],
   "source": [
    "def get_pg_conn(core_v1_api: client.CoreV1Api) -> psycopg.Connection:\n",
    "    secret = core_v1_api.read_namespaced_secret(\"postgresql\", PG_NAMESPACE)\n",
    "\n",
    "    to_str = lambda b64_data: base64.b64decode(b64_data).decode(\"utf-8\")\n",
    "    host, dbname, username, password, port = (\n",
    "        f\"postgresql.{PG_NAMESPACE}.svc\",\n",
    "        to_str(secret.data[\"database-name\"]),\n",
    "        to_str(secret.data[\"database-user\"]),\n",
    "        to_str(secret.data[\"database-password\"]),\n",
    "        5432,\n",
    "    )\n",
    "\n",
    "    conn_str = f\"postgresql://{username}:{password}@{host}:{port}/{dbname}?application_name=credit_risk_setup\"\n",
    "\n",
    "    conn = psycopg.connect(conn_str)\n",
    "\n",
    "    return conn"
   ]
  },
  {
   "cell_type": "markdown",
   "id": "fd655d69-79ba-4ea4-816f-6d4d599b0888",
   "metadata": {},
   "source": [
    "## Verify pg Connection"
   ]
  },
  {
   "cell_type": "code",
   "execution_count": 86,
   "id": "59e30d9b-b7c1-49ff-9689-c8e09173da68",
   "metadata": {},
   "outputs": [
    {
     "data": {
      "text/plain": [
       "<psycopg.Connection [IDLE] (host=postgresql.ntl-us-ibm-com.svc user=ntl database=credit-risk) at 0x7ff76856f070>"
      ]
     },
     "execution_count": 86,
     "metadata": {},
     "output_type": "execute_result"
    }
   ],
   "source": [
    "import logging\n",
    "import textwrap\n",
    "\n",
    "log = logging.getLogger(\"SETUP\")\n",
    "\n",
    "try:\n",
    "    db = get_pg_conn(core_v1_api)\n",
    "except NameError:\n",
    "    raise\n",
    "except Exception as e:\n",
    "    # no better exception to catch\n",
    "    log.error(e)\n",
    "    log.error(\n",
    "        textwrap.dedent(\n",
    "            \"\"\"\n",
    "           PG Connection failed, has postgresql been installed?\n",
    "            \"\"\"\n",
    "        )\n",
    "    )\n",
    "    exit()\n",
    "\n",
    "db"
   ]
  },
  {
   "cell_type": "code",
   "execution_count": 94,
   "id": "ca2212c1-a523-4244-a8a3-ff33f290b5c7",
   "metadata": {},
   "outputs": [
    {
     "data": {
      "text/plain": [
       "[1, 2, 3]"
      ]
     },
     "execution_count": 94,
     "metadata": {},
     "output_type": "execute_result"
    }
   ],
   "source": [
    "list((1, 2, 3))"
   ]
  },
  {
   "cell_type": "code",
   "execution_count": 93,
   "id": "a8842be3-8d7f-4f9e-9544-b8e070f8219b",
   "metadata": {},
   "outputs": [],
   "source": [
    "db.rollback()\n",
    "with db.cursor() as cur:\n",
    "    cur.execute(\n",
    "        sql.SQL(\n",
    "            \"SELECT column_name FROM information_schema.columns WHERE table_name = {} AND table_schema = CURRENT_SCHEMA ORDER BY ORDINAL_POSITION ASC\"\n",
    "        ).format(sql.Literal(\"my_table\"))\n",
    "    )\n",
    "    rows = cur.fetchone()\n",
    "    for row in rows:\n",
    "        print(row)"
   ]
  },
  {
   "cell_type": "markdown",
   "id": "3ed39dd2-ad25-48ce-b27a-ffcd2a339159",
   "metadata": {},
   "source": [
    "## DB Utils"
   ]
  },
  {
   "cell_type": "code",
   "execution_count": 102,
   "id": "e010d14c-ce7f-458c-9bcb-99e00a3a6d63",
   "metadata": {},
   "outputs": [
    {
     "ename": "NameError",
     "evalue": "name 'ibm_db' is not defined",
     "output_type": "error",
     "traceback": [
      "\u001b[0;31m---------------------------------------------------------------------------\u001b[0m",
      "\u001b[0;31mNameError\u001b[0m                                 Traceback (most recent call last)",
      "Cell \u001b[0;32mIn[108], line 134\u001b[0m\n\u001b[1;32m    125\u001b[0m         cur\u001b[38;5;241m.\u001b[39mexecute(\n\u001b[1;32m    126\u001b[0m             sql\u001b[38;5;241m.\u001b[39mSQL(\n\u001b[1;32m    127\u001b[0m                 \u001b[38;5;124m\"\u001b[39m\u001b[38;5;124mSELECT column_name FROM information_schema.columns WHERE table_name = \u001b[39m\u001b[38;5;132;01m{}\u001b[39;00m\u001b[38;5;124m AND table_schema = CURRENT_SCHEMA ORDER BY ORDINAL_POSITION ASC\u001b[39m\u001b[38;5;124m\"\u001b[39m\n\u001b[1;32m    128\u001b[0m             )\u001b[38;5;241m.\u001b[39mformat(sql\u001b[38;5;241m.\u001b[39mLiteral(\u001b[38;5;124m\"\u001b[39m\u001b[38;5;124mmy_table\u001b[39m\u001b[38;5;124m\"\u001b[39m))\n\u001b[1;32m    129\u001b[0m         )\n\u001b[1;32m    130\u001b[0m     \u001b[38;5;28;01mreturn\u001b[39;00m [row[\u001b[38;5;241m0\u001b[39m] \u001b[38;5;28;01mfor\u001b[39;00m row \u001b[38;5;129;01min\u001b[39;00m cur\u001b[38;5;241m.\u001b[39mfetchall()]\n\u001b[1;32m    133\u001b[0m \u001b[38;5;28;01mdef\u001b[39;00m \u001b[38;5;21mget_client_data\u001b[39m(\n\u001b[0;32m--> 134\u001b[0m     table_name: \u001b[38;5;28mstr\u001b[39m, client_id: \u001b[38;5;28mint\u001b[39m, conn: \u001b[43mibm_db\u001b[49m\u001b[38;5;241m.\u001b[39mIBM_DBConnection\n\u001b[1;32m    135\u001b[0m ) \u001b[38;5;241m-\u001b[39m\u001b[38;5;241m>\u001b[39m Dict[\u001b[38;5;28mstr\u001b[39m, Any]:\n\u001b[1;32m    136\u001b[0m     column_names \u001b[38;5;241m=\u001b[39m get_column_names(table_name, conn)\n\u001b[1;32m    138\u001b[0m     json_obj_kv \u001b[38;5;241m=\u001b[39m \u001b[38;5;28;01mlambda\u001b[39;00m col_name: \u001b[38;5;124mf\u001b[39m\u001b[38;5;124m\"\u001b[39m\u001b[38;5;124m'\u001b[39m\u001b[38;5;132;01m{\u001b[39;00mcol_name\u001b[38;5;132;01m}\u001b[39;00m\u001b[38;5;124m'\u001b[39m\u001b[38;5;124m VALUE \u001b[39m\u001b[38;5;124m\"\u001b[39m \u001b[38;5;241m+\u001b[39m \u001b[38;5;124mf\u001b[39m\u001b[38;5;124m'\u001b[39m\u001b[38;5;124m\"\u001b[39m\u001b[38;5;132;01m{\u001b[39;00mcol_name\u001b[38;5;132;01m}\u001b[39;00m\u001b[38;5;124m\"\u001b[39m\u001b[38;5;124m'\u001b[39m\n",
      "\u001b[0;31mNameError\u001b[0m: name 'ibm_db' is not defined"
     ]
    }
   ],
   "source": [
    "def table_exists(table_name: str, db: psycopg.Connection) -> Union[dict, bool]:\n",
    "    with db.cursor() as cur:\n",
    "        cur.execute(\n",
    "            \"SELECT EXISTS (SELECT 1 FROM pg_tables WHERE tablename = %s AND schemaname = CURRENT_SCHEMA)\",\n",
    "            (table_name,),\n",
    "        )\n",
    "        return cur.fetchone()[0]\n",
    "\n",
    "\n",
    "def build_check_constraints_sql(\n",
    "    column_info: Dict[str, Any], conn: psycopg.Connection\n",
    ") -> List[sql.SQL]:\n",
    "    constraints = []\n",
    "    for label_col, levels in column_info[\"label_columns\"].items():\n",
    "        sql_snippet = sql.SQL(\"CHECK ({0} IN ({1})\").format(\n",
    "            sql.Identifier(label_col),\n",
    "            sql.SQL(\", \").join([sql.Literal(level) for level in levels]),\n",
    "        )\n",
    "        constraints.append(sql_snippet)\n",
    "    return constraints\n",
    "\n",
    "\n",
    "def build_create_table_sql(\n",
    "    conn: psycopg.Connection,\n",
    "    table_name: str,\n",
    "    column_info: Dict[str, Any],\n",
    "    identity_start: int = 1,\n",
    ") -> sql.SQL:\n",
    "    label_columns = [\n",
    "        sql.SQL(\"{0} VARCHAR(32000) NOT NULL\").format(sql.Identifier(col))\n",
    "        for col in column_info[\"label_columns\"]\n",
    "    ]\n",
    "    int_columns = [\n",
    "        sql.SQL(\"{0} BIGINT NOT NULL\").format(sql.Identifier(col))\n",
    "        for col in column_info[\"int_columns\"]\n",
    "    ]\n",
    "    constraints = build_check_constraints_sql(column_info, conn)\n",
    "    id_col = [\n",
    "        sql.SQL(\n",
    "            \"ACCOUNT_ID BIGINT GENERATED BY DEFAULT AS IDENTITY (START WITH {})\"\n",
    "        ).format(sql.Literal(identity_start))\n",
    "    ]\n",
    "\n",
    "    create_table = sql.SQL(\"CREATE TABLE {0} ({1})}\").format(\n",
    "        sql.Identifier(table_name),\n",
    "        sql.SQL(\",\").join(label_columns + int_columns + constraints + id_col),\n",
    "    )\n",
    "\n",
    "    print(create_table)\n",
    "    return create_table\n",
    "\n",
    "\n",
    "def df_to_sql(\n",
    "    table_name: str,\n",
    "    db: psycopg.Connection,\n",
    "    df: pd.DataFrame,\n",
    "    columns: Dict[str, Any],\n",
    "    identity_start: int = 1,\n",
    ") -> None:\n",
    "    try:\n",
    "        if table_exists(table_name, db):\n",
    "            with db.cursor() as cur:\n",
    "                cur.execute(sql.SQL(\"DROP TABLE {}\").format(sql.Identifier(table_name)))\n",
    "            db.commit()\n",
    "\n",
    "        with db.cursor() as cur:\n",
    "            cur.execute(build_create_table_sql(table_name, columns, identity_start))\n",
    "        db.commit()\n",
    "\n",
    "        insert_sql = sql.SQL(\n",
    "            \"INSERT INTO {0} ({1}) VALUES(\"\n",
    "            + (\", \".join([\"%s\"] * len(columns[\"columns\"])))\n",
    "            + \")\"\n",
    "        ).format(\n",
    "            sql.Identifier(table_name),\n",
    "            sql.SQL(\",\").join([sql.Identifier(col) for col in columns[\"columns\"]]),\n",
    "        )\n",
    "\n",
    "        with db.cursor() as cur:\n",
    "            df_tuples = tuple([tuple(x) for x in df.loc[:, columns[\"columns\"]].values])\n",
    "            print(insert_sql)\n",
    "            cur.executemany(insert_sql, df_tuples)\n",
    "        db.commit()\n",
    "\n",
    "    except Exception as e:\n",
    "        db.rollback()\n",
    "        raise\n",
    "\n",
    "\n",
    "def insert_from_row_dicts(\n",
    "    table_name: str,\n",
    "    row_dicts: List[Dict[str, Union[str, int]]],\n",
    "    db: psycopg.Connection,\n",
    ") -> List[int]:\n",
    "    stmt = None\n",
    "    stmt_columns = None\n",
    "    client_ids = []\n",
    "    try:\n",
    "        for row_dict in row_dicts:\n",
    "            row_cols = list(set(row_dict.keys()))\n",
    "\n",
    "            insert = sql.SQL(\n",
    "                \"INSERT INTO {0} ({1}) VALUES(\"\n",
    "                + (\", \".join([\"%s\"] * len(row_cols)))\n",
    "                + \") RETURNING ACCOUNT_ID\"\n",
    "            ).format(\n",
    "                sql.Identifier(table_name),\n",
    "                sql.SQL(\",\").join([sql.Identifier(col) for col in row_cols]),\n",
    "            )\n",
    "\n",
    "            with db.cursor() as cur:\n",
    "                cur.execute(insert)\n",
    "                client_ids = cur.fetchone()[0]\n",
    "        db.commit()\n",
    "\n",
    "    except Exception as e:\n",
    "        db.rollback()\n",
    "        raise\n",
    "\n",
    "    return client_ids\n",
    "\n",
    "\n",
    "def get_column_names(table_name: str, db: psycopg.Connection) -> List[str]:\n",
    "    with db.cursor() as cur:\n",
    "        cur.execute(\n",
    "            sql.SQL(\n",
    "                \"SELECT column_name FROM information_schema.columns WHERE table_name = {} AND table_schema = CURRENT_SCHEMA ORDER BY ORDINAL_POSITION ASC\"\n",
    "            ).format(sql.Literal(\"my_table\"))\n",
    "        )\n",
    "    return [row[0] for row in cur.fetchall()]\n",
    "\n",
    "\n",
    "def get_client_data(\n",
    "    table_name: str, client_id: int, conn: psycopg.Connection\n",
    ") -> Dict[str, Any]:\n",
    "    # https://stackoverflow.com/questions/24006291/postgresql-return-result-set-as-json-array\n",
    "    with conn.cursor() as cur:\n",
    "        cur.execute(\n",
    "            sql.SQL(\n",
    "                \"SELECT json_agg(t) FROM {} WHERE CLIENT_ID = %s\"\n",
    "            ).format(sql.Identifier(table_name)),\n",
    "            client_id\n",
    "        )\n",
    "        return json.loads(cur.fetchone[0])\n",
    "    \n",
    "   "
   ]
  },
  {
   "cell_type": "code",
   "execution_count": null,
   "id": "28dcb8c3-54f1-42fc-a818-a8dc7ba8b7a0",
   "metadata": {},
   "outputs": [
    {
     "data": {
      "text/plain": [
       "{'CheckingStatus': ['0_to_200', 'greater_200', 'less_0', 'no_checking'],\n",
       " 'CreditHistory': ['all_credits_paid_back',\n",
       "  'credits_paid_to_date',\n",
       "  'no_credits',\n",
       "  'outstanding_credit',\n",
       "  'prior_payments_delayed'],\n",
       " 'LoanPurpose': ['appliances',\n",
       "  'business',\n",
       "  'car_new',\n",
       "  'car_used',\n",
       "  'education',\n",
       "  'furniture',\n",
       "  'other',\n",
       "  'radio_tv',\n",
       "  'repairs',\n",
       "  'retraining',\n",
       "  'vacation'],\n",
       " 'ExistingSavings': ['100_to_500',\n",
       "  '500_to_1000',\n",
       "  'greater_1000',\n",
       "  'less_100',\n",
       "  'unknown'],\n",
       " 'EmploymentDuration': ['1_to_4',\n",
       "  '4_to_7',\n",
       "  'greater_7',\n",
       "  'less_1',\n",
       "  'unemployed'],\n",
       " 'Sex': ['female', 'male'],\n",
       " 'OthersOnLoan': ['co-applicant', 'guarantor', 'none'],\n",
       " 'OwnsProperty': ['car_other', 'real_estate', 'savings_insurance', 'unknown'],\n",
       " 'InstallmentPlans': ['bank', 'none', 'stores'],\n",
       " 'Housing': ['free', 'own', 'rent'],\n",
       " 'Job': ['management_self-employed', 'skilled', 'unemployed', 'unskilled'],\n",
       " 'Telephone': ['none', 'yes'],\n",
       " 'ForeignWorker': ['no', 'yes'],\n",
       " 'Risk': ['No Risk', 'Risk']}"
      ]
     },
     "execution_count": 106,
     "metadata": {},
     "output_type": "execute_result"
    }
   ],
   "source": []
  },
  {
   "cell_type": "markdown",
   "id": "c3fc7f78-82f7-4158-a7ff-9c8af4d646e3",
   "metadata": {},
   "source": [
    "### Create Test and Training tables"
   ]
  },
  {
   "cell_type": "code",
   "execution_count": 104,
   "id": "42d9ce60-5562-4687-ab9f-1d0ed540ce71",
   "metadata": {},
   "outputs": [
    {
     "ename": "TypeError",
     "evalue": "'int' object is not subscriptable",
     "output_type": "error",
     "traceback": [
      "\u001b[0;31m---------------------------------------------------------------------------\u001b[0m",
      "\u001b[0;31mTypeError\u001b[0m                                 Traceback (most recent call last)",
      "Cell \u001b[0;32mIn[107], line 1\u001b[0m\n\u001b[0;32m----> 1\u001b[0m \u001b[43mdf_to_sql\u001b[49m\u001b[43m(\u001b[49m\u001b[38;5;124;43m\"\u001b[39;49m\u001b[38;5;124;43mTRAIN\u001b[39;49m\u001b[38;5;124;43m\"\u001b[39;49m\u001b[43m,\u001b[49m\u001b[43m \u001b[49m\u001b[43mdb\u001b[49m\u001b[43m,\u001b[49m\u001b[43m \u001b[49m\u001b[43mtrain\u001b[49m\u001b[43m,\u001b[49m\u001b[43m \u001b[49m\u001b[43mcolumn_map\u001b[49m\u001b[43m)\u001b[49m\n\u001b[1;32m      2\u001b[0m df_to_sql(\u001b[38;5;124m\"\u001b[39m\u001b[38;5;124mTEST\u001b[39m\u001b[38;5;124m\"\u001b[39m, db, test, column_map, identity_start\u001b[38;5;241m=\u001b[39m\u001b[38;5;28mlen\u001b[39m(train) \u001b[38;5;241m+\u001b[39m \u001b[38;5;241m1\u001b[39m)\n",
      "Cell \u001b[0;32mIn[102], line 64\u001b[0m, in \u001b[0;36mdf_to_sql\u001b[0;34m(table_name, db, df, columns, identity_start)\u001b[0m\n\u001b[1;32m     61\u001b[0m     db\u001b[38;5;241m.\u001b[39mcommit()\n\u001b[1;32m     63\u001b[0m \u001b[38;5;28;01mwith\u001b[39;00m db\u001b[38;5;241m.\u001b[39mcursor() \u001b[38;5;28;01mas\u001b[39;00m cur:\n\u001b[0;32m---> 64\u001b[0m     cur\u001b[38;5;241m.\u001b[39mexecute(\u001b[43mbuild_create_table_sql\u001b[49m\u001b[43m(\u001b[49m\u001b[43mtable_name\u001b[49m\u001b[43m,\u001b[49m\u001b[43m \u001b[49m\u001b[43mcolumns\u001b[49m\u001b[43m,\u001b[49m\u001b[43m \u001b[49m\u001b[43midentity_start\u001b[49m\u001b[43m)\u001b[49m)\n\u001b[1;32m     65\u001b[0m db\u001b[38;5;241m.\u001b[39mcommit()\n\u001b[1;32m     68\u001b[0m insert_sql \u001b[38;5;241m=\u001b[39m sql\u001b[38;5;241m.\u001b[39mSQL(\u001b[38;5;124m\"\u001b[39m\u001b[38;5;124mINSERT INTO \u001b[39m\u001b[38;5;132;01m{0}\u001b[39;00m\u001b[38;5;124m (\u001b[39m\u001b[38;5;132;01m{1}\u001b[39;00m\u001b[38;5;124m) VALUES(\u001b[39m\u001b[38;5;124m\"\u001b[39m \u001b[38;5;241m+\u001b[39m (\u001b[38;5;124m\"\u001b[39m\u001b[38;5;124m, \u001b[39m\u001b[38;5;124m\"\u001b[39m\u001b[38;5;241m.\u001b[39mjoin([\u001b[38;5;124m\"\u001b[39m\u001b[38;5;132;01m%s\u001b[39;00m\u001b[38;5;124m\"\u001b[39m] \u001b[38;5;241m*\u001b[39m \u001b[38;5;28mlen\u001b[39m(columns[\u001b[38;5;124m\"\u001b[39m\u001b[38;5;124mcolumns\u001b[39m\u001b[38;5;124m\"\u001b[39m]))) \u001b[38;5;241m+\u001b[39m \u001b[38;5;124m\"\u001b[39m\u001b[38;5;124m)\u001b[39m\u001b[38;5;124m\"\u001b[39m)\u001b[38;5;241m.\u001b[39mformat(\n\u001b[1;32m     69\u001b[0m     sql\u001b[38;5;241m.\u001b[39mIdentifier(table_name),\n\u001b[1;32m     70\u001b[0m     sql\u001b[38;5;241m.\u001b[39mSQL(\u001b[38;5;124m\"\u001b[39m\u001b[38;5;124m,\u001b[39m\u001b[38;5;124m\"\u001b[39m)\u001b[38;5;241m.\u001b[39mjoin([sql\u001b[38;5;241m.\u001b[39mIdentifier(col) \u001b[38;5;28;01mfor\u001b[39;00m col \u001b[38;5;129;01min\u001b[39;00m columns[\u001b[38;5;124m\"\u001b[39m\u001b[38;5;124mcolumns\u001b[39m\u001b[38;5;124m\"\u001b[39m]])\n\u001b[1;32m     71\u001b[0m )\n",
      "Cell \u001b[0;32mIn[102], line 31\u001b[0m, in \u001b[0;36mbuild_create_table_sql\u001b[0;34m(conn, table_name, column_info, identity_start)\u001b[0m\n\u001b[1;32m     24\u001b[0m \u001b[38;5;28;01mdef\u001b[39;00m \u001b[38;5;21mbuild_create_table_sql\u001b[39m(\n\u001b[1;32m     25\u001b[0m     conn: psycopg\u001b[38;5;241m.\u001b[39mConnection,\n\u001b[1;32m     26\u001b[0m     table_name: \u001b[38;5;28mstr\u001b[39m, \n\u001b[1;32m     27\u001b[0m     column_info: Dict[\u001b[38;5;28mstr\u001b[39m, Any], \n\u001b[1;32m     28\u001b[0m     identity_start: \u001b[38;5;28mint\u001b[39m \u001b[38;5;241m=\u001b[39m \u001b[38;5;241m1\u001b[39m\n\u001b[1;32m     29\u001b[0m ) \u001b[38;5;241m-\u001b[39m\u001b[38;5;241m>\u001b[39m sql\u001b[38;5;241m.\u001b[39mSQL:\n\u001b[1;32m     30\u001b[0m     label_columns \u001b[38;5;241m=\u001b[39m [sql\u001b[38;5;241m.\u001b[39mSQL(\u001b[38;5;124m\"\u001b[39m\u001b[38;5;132;01m{0}\u001b[39;00m\u001b[38;5;124m VARCHAR(32000) NOT NULL\u001b[39m\u001b[38;5;124m\"\u001b[39m)\u001b[38;5;241m.\u001b[39mformat(\n\u001b[0;32m---> 31\u001b[0m         sql\u001b[38;5;241m.\u001b[39mIdentifier(col)) \u001b[38;5;28;01mfor\u001b[39;00m col \u001b[38;5;129;01min\u001b[39;00m \u001b[43mcolumn_info\u001b[49m\u001b[43m[\u001b[49m\u001b[38;5;124;43m\"\u001b[39;49m\u001b[38;5;124;43mlabel_columns\u001b[39;49m\u001b[38;5;124;43m\"\u001b[39;49m\u001b[43m]\u001b[49m]\n\u001b[1;32m     32\u001b[0m     int_columns \u001b[38;5;241m=\u001b[39m  [sql\u001b[38;5;241m.\u001b[39mSQL(\u001b[38;5;124m\"\u001b[39m\u001b[38;5;132;01m{0}\u001b[39;00m\u001b[38;5;124m BIGINT NOT NULL\u001b[39m\u001b[38;5;124m\"\u001b[39m)\u001b[38;5;241m.\u001b[39mformat(\n\u001b[1;32m     33\u001b[0m         sql\u001b[38;5;241m.\u001b[39mIdentifier(col)) \u001b[38;5;28;01mfor\u001b[39;00m col \u001b[38;5;129;01min\u001b[39;00m column_info[\u001b[38;5;124m\"\u001b[39m\u001b[38;5;124mint_columns\u001b[39m\u001b[38;5;124m\"\u001b[39m]]\n\u001b[1;32m     34\u001b[0m     constraints \u001b[38;5;241m=\u001b[39m build_check_constraints_sql(column_info, conn)\n",
      "\u001b[0;31mTypeError\u001b[0m: 'int' object is not subscriptable"
     ]
    }
   ],
   "source": [
    "df_to_sql(\"TRAIN\", db, train, column_map)\n",
    "df_to_sql(\"TEST\", db, test, column_map, identity_start=len(train) + 1)"
   ]
  },
  {
   "cell_type": "markdown",
   "id": "35435f61-9da8-4b33-af53-d4638a19b18d",
   "metadata": {},
   "source": [
    "## Create Application table"
   ]
  },
  {
   "cell_type": "code",
   "execution_count": 13,
   "id": "880a7f9f-2545-432d-8f34-808f5ca0e060",
   "metadata": {},
   "outputs": [],
   "source": [
    "application_df = test.copy().drop(test.index)\n",
    "df_to_sql(\"CLIENT_DATA\", db2, application_df, column_map, identity_start=9000)"
   ]
  },
  {
   "cell_type": "code",
   "execution_count": 14,
   "id": "ea27108a-9c58-4028-a49a-ce8f9c7f416b",
   "metadata": {},
   "outputs": [
    {
     "data": {
      "text/plain": [
       "<ibm_db.IBM_DBStatement at 0x7ff74a549110>"
      ]
     },
     "execution_count": 14,
     "metadata": {},
     "output_type": "execute_result"
    }
   ],
   "source": [
    "ibm_db.exec_immediate(db2, 'ALTER TABLE CLIENT_DATA ALTER COLUMN \"Risk\" DROP NOT NULL')\n",
    "ibm_db.exec_immediate(\n",
    "    db2,\n",
    "    \"\"\"\n",
    "    ALTER TABLE CLIENT_DATA \n",
    "    ADD COLUMN \"PredictedRisk\" VARCHAR(32000) CHECK(\"PredictedRisk\" IN ('No Risk', 'Risk'))\n",
    "    \"\"\",\n",
    ")\n",
    "ibm_db.exec_immediate(\n",
    "    db2,\n",
    "    \"\"\"\n",
    "    ALTER TABLE CLIENT_DATA \n",
    "    ADD COLUMN \"ExplainRisk\" VARCHAR(32000)\n",
    "    ADD CONSTRAINT \"ExplainRisk_CHK\" CHECK(\"PredictedRisk\" <> 'Risk' OR \"ExplainRisk\" IS NOT NULL)\n",
    "    \"\"\",\n",
    ")\n",
    "ibm_db.exec_immediate(db2, \"CALL SYSPROC.ADMIN_CMD('REORG TABLE CLIENT_DATA')\")\n",
    "ibm_db.exec_immediate(\n",
    "    db2,\n",
    "    \"\"\"\n",
    "    ALTER TABLE CLIENT_DATA\n",
    "    ADD COLUMN \"LastChangeTimestamp\" TIMESTAMP NOT NULL GENERATED ALWAYS FOR EACH ROW ON UPDATe AS row CHANGE TIMESTAMP\n",
    "    \"\"\",\n",
    ")"
   ]
  },
  {
   "cell_type": "code",
   "execution_count": null,
   "id": "96f4982a-1571-471b-a68b-fed19041f02a",
   "metadata": {},
   "outputs": [],
   "source": []
  },
  {
   "cell_type": "markdown",
   "id": "3575fd57-1bc6-4710-b554-8ebdd29ecbca",
   "metadata": {},
   "source": [
    "## Insert JSON"
   ]
  },
  {
   "cell_type": "code",
   "execution_count": 15,
   "id": "bf8c2d06-4d84-4ba4-b909-7297450329bb",
   "metadata": {},
   "outputs": [],
   "source": [
    "input_json = \"\"\"\n",
    "{\n",
    "    \"CheckingStatus\":\"no_checking\",\n",
    "    \"LoanDuration\":31,\n",
    "    \"CreditHistory\":\"outstanding_credit\",\n",
    "    \"LoanPurpose\":\"repairs\",\n",
    "    \"LoanAmount\":8411,\n",
    "    \"ExistingSavings\":\"500_to_1000\",\n",
    "    \"EmploymentDuration\":\"4_to_7\",\n",
    "    \"InstallmentPercent\":5,\n",
    "    \"Sex\":\"male\",\n",
    "    \"OthersOnLoan\":\"co-applicant\",\n",
    "    \"CurrentResidenceDuration\":5,\n",
    "    \"OwnsProperty\":\"unknown\",\n",
    "    \"Age\":46,\n",
    "    \"InstallmentPlans\":\"none\",\n",
    "    \"Housing\":\"free\",\n",
    "    \"ExistingCreditsCount\":2,\n",
    "    \"Job\":\"management_self-employed\",\n",
    "    \"Dependents\":2,\n",
    "    \"Telephone\":\"yes\",\n",
    "    \"ForeignWorker\":\"yes\",\n",
    "    \"PredictedRisk\":\"Risk\"\n",
    "}\n",
    "\"\"\""
   ]
  },
  {
   "cell_type": "code",
   "execution_count": 16,
   "id": "5f9c11ea-92b7-4fe2-b72d-03c135c49c40",
   "metadata": {},
   "outputs": [
    {
     "data": {
      "text/plain": [
       "[9000]"
      ]
     },
     "execution_count": 16,
     "metadata": {},
     "output_type": "execute_result"
    }
   ],
   "source": [
    "row_dicts = [json.loads(input_json)]\n",
    "row_dicts[0][\"ExplainRisk\"] = \" AND \".join(\n",
    "    [\"Age > 36.00\", \"CurrentResidenceDuration > 3.00\", \"InstallmentPercent > 4.00\"]\n",
    ")\n",
    "insert_from_row_dicts(\"CLIENT_DATA\", row_dicts, db2)"
   ]
  },
  {
   "cell_type": "markdown",
   "id": "8b737f71-5f95-4a8a-963f-668c75bd4484",
   "metadata": {},
   "source": [
    "### Load row as html"
   ]
  },
  {
   "cell_type": "code",
   "execution_count": 17,
   "id": "586fb9e0-3d13-4b79-be29-4827a558f8cb",
   "metadata": {},
   "outputs": [
    {
     "name": "stdout",
     "output_type": "stream",
     "text": [
      "{\n",
      "  \"CLIENT_ID\": 9000,\n",
      "  \"CheckingStatus\": \"no_checking\",\n",
      "  \"CreditHistory\": \"outstanding_credit\",\n",
      "  \"LoanPurpose\": \"repairs\",\n",
      "  \"ExistingSavings\": \"500_to_1000\",\n",
      "  \"EmploymentDuration\": \"4_to_7\",\n",
      "  \"Sex\": \"male\",\n",
      "  \"OthersOnLoan\": \"co-applicant\",\n",
      "  \"OwnsProperty\": \"unknown\",\n",
      "  \"InstallmentPlans\": \"none\",\n",
      "  \"Housing\": \"free\",\n",
      "  \"Job\": \"management_self-employed\",\n",
      "  \"Telephone\": \"yes\",\n",
      "  \"ForeignWorker\": \"yes\",\n",
      "  \"Risk\": null,\n",
      "  \"LoanDuration\": 31,\n",
      "  \"LoanAmount\": 8411,\n",
      "  \"InstallmentPercent\": 5,\n",
      "  \"CurrentResidenceDuration\": 5,\n",
      "  \"Age\": 46,\n",
      "  \"ExistingCreditsCount\": 2,\n",
      "  \"Dependents\": 2,\n",
      "  \"PredictedRisk\": \"Risk\",\n",
      "  \"ExplainRisk\": \"Age > 36.00 AND CurrentResidenceDuration > 3.00 AND InstallmentPercent > 4.00\",\n",
      "  \"LastChangeTimestamp\": \"2023-10-26-15.52.22.867680\"\n",
      "}\n"
     ]
    }
   ],
   "source": [
    "print(json.dumps(get_client_data(\"CLIENT_DATA\", 9000, db2), indent=2))"
   ]
  },
  {
   "cell_type": "code",
   "execution_count": null,
   "id": "5e821279-fd0b-49b1-91d5-3661dfbb4dd2",
   "metadata": {},
   "outputs": [],
   "source": []
  },
  {
   "cell_type": "code",
   "execution_count": null,
   "id": "6af2f32d-a97a-495f-94d5-249aacc5b33b",
   "metadata": {},
   "outputs": [],
   "source": [
    "# Create secret with AWS/MinIo Credentials\n",
    "# Kubeflow install stores these in mlpipeline-minio-artifact"
   ]
  },
  {
   "cell_type": "code",
   "execution_count": 23,
   "id": "e3f8a5b0-15f1-4afa-9f67-dfd6b8ce618f",
   "metadata": {},
   "outputs": [],
   "source": [
    "minio_creds = core_v1_api.read_namespaced_secret(\"mlpipeline-minio-artifact\", NAMESPACE)\n",
    "AWS_ACCESS_KEY_ID = minio_creds.data[\"accesskey\"]\n",
    "AWS_SECRET_ACCESS_KEY = minio_creds.data[\"secretkey\"]"
   ]
  },
  {
   "cell_type": "code",
   "execution_count": 24,
   "id": "b33ce59c-1b3b-4de2-a437-15fd51ef3cc4",
   "metadata": {},
   "outputs": [
    {
     "data": {
      "text/plain": [
       "kubernetes.client.models.v1_secret.V1Secret"
      ]
     },
     "execution_count": 24,
     "metadata": {},
     "output_type": "execute_result"
    }
   ],
   "source": [
    "type(minio_creds)"
   ]
  },
  {
   "cell_type": "code",
   "execution_count": 38,
   "id": "2dee5110-8f6c-4910-8f84-07e1038c82ce",
   "metadata": {},
   "outputs": [],
   "source": [
    "new_secret = client.V1Secret(\n",
    "    metadata=client.V1ObjectMeta(\n",
    "        name=\"minio-credentials\",\n",
    "        namespace=NAMESPACE,\n",
    "        annotations={\n",
    "            \"serving.kserve.io/s3-endpoint\": \"minio-service.kubeflow:9000\",\n",
    "            \"serving.kserve.io/s3-region\": \"us-west1\",\n",
    "            \"serving.kserve.io/s3-useanoncredential\": \"false\",\n",
    "            \"serving.kserve.io/s3-usehttps\": \"0\",\n",
    "        },\n",
    "    ),\n",
    "    data={\n",
    "        \"AWS_ACCESS_KEY_ID\": AWS_ACCESS_KEY_ID,\n",
    "        \"AWS_SECRET_ACCESS_KEY\": AWS_SECRET_ACCESS_KEY,\n",
    "    },\n",
    ")"
   ]
  },
  {
   "cell_type": "code",
   "execution_count": 39,
   "id": "f50f2a8d-2d9c-4bce-b25a-79ed4254610f",
   "metadata": {},
   "outputs": [],
   "source": [
    "new_secret = client.V1Secret(\n",
    "    metadata=client.V1ObjectMeta(\n",
    "        name=\"minio-credentials\",\n",
    "        namespace=NAMESPACE,\n",
    "        annotations={\n",
    "            \"serving.kserve.io/s3-endpoint\": \"minio-service.kubeflow:9000\",\n",
    "            \"serving.kserve.io/s3-region\": \"us-west1\",\n",
    "            \"serving.kserve.io/s3-useanoncredential\": \"false\",\n",
    "            \"serving.kserve.io/s3-usehttps\": \"0\",\n",
    "        },\n",
    "    ),\n",
    "    data={\n",
    "        \"AWS_ACCESS_KEY_ID\": AWS_ACCESS_KEY_ID,\n",
    "        \"AWS_SECRET_ACCESS_KEY\": AWS_SECRET_ACCESS_KEY,\n",
    "    },\n",
    ")"
   ]
  },
  {
   "cell_type": "code",
   "execution_count": null,
   "id": "e3afb8f4-c70b-422e-a7a3-dd3fcbe2e719",
   "metadata": {},
   "outputs": [],
   "source": []
  }
 ],
 "metadata": {
  "kernelspec": {
   "display_name": "Python 3 (ipykernel)",
   "language": "python",
   "name": "python3"
  },
  "language_info": {
   "codemirror_mode": {
    "name": "ipython",
    "version": 3
   },
   "file_extension": ".py",
   "mimetype": "text/x-python",
   "name": "python",
   "nbconvert_exporter": "python",
   "pygments_lexer": "ipython3",
   "version": "3.9.16"
  }
 },
 "nbformat": 4,
 "nbformat_minor": 5
}
